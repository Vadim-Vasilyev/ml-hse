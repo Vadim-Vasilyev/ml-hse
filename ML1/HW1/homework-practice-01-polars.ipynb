{
 "cells": [
  {
   "cell_type": "markdown",
   "metadata": {
    "id": "qT4lcRBz3JKd"
   },
   "source": [
    "## Машинное обучение 1, ПМИ ФКН ВШЭ\n",
    "\n",
    "## Практическое домашнее задание 1\n",
    "\n",
    "### Общая информация\n",
    "\n",
    "Дата выдачи: 25.09.2024\n",
    "\n",
    "Мягкий дедлайн: 23:59MSK 06.10.2024\n",
    "\n",
    "Жесткий дедлайн: 23:59MSK 10.10.2024"
   ]
  },
  {
   "cell_type": "markdown",
   "metadata": {
    "id": "UzmZAvdT3JKf"
   },
   "source": [
    "### О задании\n",
    "\n",
    "Задание состоит из двух разделов, посвященных работе с табличными данными с помощью библиотеки `polars` и визуализации с помощью `matplotlib`. В первом разделе вам предстоит выполнить базовые задания с помощью вышеуказанных библиотек, а во втором распределить студентов по курсам. Баллы даются за выполнение отдельных пунктов. Задачи в рамках одного раздела рекомендуется решать в том порядке, в котором они даны в задании.\n",
    "\n",
    "Задание направлено на освоение jupyter notebook (будет использоваться в дальнейших заданиях), библиотек polars и matplotlib.\n",
    "\n",
    "### Оценивание и штрафы\n",
    "Каждая из задач имеет определенную «стоимость» (указана в скобках около задачи). Максимально допустимая оценка за работу — 10 баллов без учёта бонусов. Сдавать задание после жёсткого дедлайна нельзя.\n",
    "\n",
    "Задание выполняется самостоятельно. «Похожие» решения считаются плагиатом и все задействованные студенты (в том числе те, у кого списали) не могут получить за него больше 0 баллов (подробнее о плагиате см. на странице курса). Если вы нашли решение какого-то из заданий (или его часть) в открытом источнике, необходимо указать ссылку на этот источник (скорее всего вы будете не единственным, кто это нашел, поэтому чтобы исключить подозрение в плагиате, необходима ссылка на источник).\n",
    "\n",
    "### Формат сдачи\n",
    "Задания сдаются через систему Anytask. Инвайт можно получить у семинариста или ассистента. Присылать необходимо ноутбук с выполненным заданием. Сам ноутбук называйте в формате `homework-practice-01-polars-Username.ipynb`, где Username — ваша фамилия.\n",
    "\n",
    "Для удобства проверки самостоятельно посчитайте свою максимальную оценку (исходя из набора решенных задач) и укажите ниже.\n",
    "\n",
    "Оценка: xx."
   ]
  },
  {
   "cell_type": "markdown",
   "metadata": {
    "id": "bQMq9hxz3JKg"
   },
   "source": [
    "## 0. Введение"
   ]
  },
  {
   "cell_type": "markdown",
   "metadata": {
    "id": "rDm3xw-Y3JKg"
   },
   "source": [
    "Сейчас мы находимся в jupyter-ноутбуке (или ipython-ноутбуке). Это удобная среда для написания кода, проведения экспериментов, изучения данных, построения визуализаций и других нужд, не связанных с написанием production-кода.\n",
    "\n",
    "Ноутбук состоит из ячеек, каждая из которых может быть либо ячейкой с кодом, либо ячейкой с текстом размеченным и неразмеченным. Текст поддерживает markdown-разметку и формулы в Latex.\n",
    "\n",
    "Для работы с содержимым ячейки используется *режим редактирования* (*Edit mode*, включается нажатием клавиши **Enter** после выбора ячейки), а для навигации между ячейками искользуется *командный режим* (*Command mode*, включается нажатием клавиши **Esc**). Тип ячейки можно задать в командном режиме либо с помощью горячих клавиш (**y** to code, **m** to markdown, **r** to edit raw text), либо в меню *Cell -> Cell type*.\n",
    "\n",
    "После заполнения ячейки нужно нажать *Shift + Enter*, эта команда обработает содержимое ячейки: проинтерпретирует код или сверстает размеченный текст."
   ]
  },
  {
   "cell_type": "code",
   "execution_count": 1,
   "metadata": {
    "id": "OEmmbrlv3JKh"
   },
   "outputs": [
    {
     "data": {
      "text/plain": [
       "4"
      ]
     },
     "execution_count": 1,
     "metadata": {},
     "output_type": "execute_result"
    }
   ],
   "source": [
    "# ячейка с кодом, при выполнении которой появится output\n",
    "2 + 2"
   ]
  },
  {
   "cell_type": "markdown",
   "metadata": {
    "id": "pHuI1gxN3JKi"
   },
   "source": [
    "Ячейка с неразмеченыным текстом."
   ]
  },
  {
   "cell_type": "markdown",
   "metadata": {
    "id": "7Od1jM9q3JKi"
   },
   "source": [
    "Попробуйте создать свои ячейки, написать какой-нибудь код и текст какой-нибудь формулой."
   ]
  },
  {
   "cell_type": "code",
   "execution_count": null,
   "metadata": {
    "id": "bmR2-3Ut3JKi"
   },
   "outputs": [],
   "source": [
    "# your code"
   ]
  },
  {
   "cell_type": "markdown",
   "metadata": {
    "id": "eNSsZ84J3JKj"
   },
   "source": [
    "[Здесь](https://athena.brynmawr.edu/jupyter/hub/dblank/public/Jupyter%20Notebook%20Users%20Manual.ipynb) находится <s>не</s>большая заметка о используемом языке разметки Markdown. Он позволяет:\n",
    "\n",
    "0. Составлять упорядоченные списки\n",
    "1. Выделять *текст* <s>при</s> **необходимости**\n",
    "2. Добавлять [ссылки](http://imgs.xkcd.com/comics/the_universal_label.png)\n",
    "\n",
    "\n",
    "* Составлять неупорядоченные списки\n",
    "\n",
    "Делать вставки с помощью LaTex:\n",
    "    \n",
    "$\n",
    "\\left\\{\n",
    "\\begin{array}{ll}\n",
    "x = 16 \\sin^3 (t) \\\\\n",
    "y = 13 \\cos (t) - 5 \\cos (2t) - 2 \\cos (3t) - \\cos (4t) \\\\\n",
    "t \\in [0, 2 \\pi]\n",
    "\\end{array}\n",
    "\\right.$"
   ]
  },
  {
   "cell_type": "markdown",
   "metadata": {
    "id": "lmR9WkMh3JKj"
   },
   "source": [
    "А ещё можно вставлять картинки, или гифки, или что захотите:\n",
    "\n",
    "<img src=\"https://i.imgur.com/k5df8lX.gif\" width=\"400px\">\n",
    "\n"
   ]
  },
  {
   "cell_type": "markdown",
   "metadata": {
    "id": "dPLYl66y3JKj"
   },
   "source": [
    "### Google Colab"
   ]
  },
  {
   "cell_type": "markdown",
   "metadata": {
    "id": "A4lqG21G3JKj"
   },
   "source": [
    "Что за колаб?\n",
    "\n",
    "**Google Colab (Colaboratory)** это **Jupyter Notebook + Cloud + Google Drive.**\n",
    "\n",
    "Компания Google предоставляет возможность бесплатно запускать ноутбуки (предварительно загрузив их на свой гугл-диск) прямо в облаке. При этом вам не требуется установка никаких пакетов на свою машину, а работать можно прямиком из браузера. Вот ссылка:"
   ]
  },
  {
   "cell_type": "markdown",
   "metadata": {
    "id": "79bVOFY_3JKj"
   },
   "source": [
    "https://colab.research.google.com"
   ]
  },
  {
   "cell_type": "markdown",
   "metadata": {
    "id": "LnMoUH2P3JKj"
   },
   "source": [
    "При использовании вы увидите много сходств с jupyter ноутбуком. Одним из преимуществ является доступность GPU, соответствующую опцию можно активировать в настройках сервиса. При желании вы сможете найти в интернете много туториалов по использованию или разобраться самостоятельно =)"
   ]
  },
  {
   "cell_type": "markdown",
   "metadata": {
    "id": "iAb44N3VjD11"
   },
   "source": [
    "### Kaggle\n",
    "\n",
    "Альтернативой является **Kaggle**, он же площадка для самых разных соревнований по машинному обучению\n",
    "\n",
    "Он, как и колаб, предоставляет бесплатный GPU, и даже не один, с чётким лимитом в 30 часов в неделю (colab может его внезапно отобрать, kaggle - нет) более мощные CPU с большим числом ядер, и больше Гб ОЗУ (раз так в 2.5)\n",
    "\n",
    "https://www.kaggle.com\n",
    "\n",
    "К сожалению мир не идеален, недостатки следующие:\n",
    "- необходимость загружать датасеты через специальную кнопочку\n",
    "- невозможность использовать свои скрипты и модули :(\n",
    "- нужно тыкать техподдержку, чтобы создать аккаунт из России"
   ]
  },
  {
   "cell_type": "markdown",
   "metadata": {
    "id": "91bWX9jd3JKk"
   },
   "source": [
    "## 1. Табличные данные и Polars"
   ]
  },
  {
   "cell_type": "markdown",
   "metadata": {
    "id": "Z9L3rKBm3JKk"
   },
   "source": [
    "Эта версия домашки предполагает, что вы уже являетесь уверенным пользователем `pandas` и знакомы с датафреймами, как они устроены и как ими манипулировать. Библиотека `polars` основана на тех же концептах.\n",
    "\n",
    "Главные достоинства, которые чуть позже продемонстрируем:\n",
    "- он написан на Rust, поэтому почти все операции в нём выполняются значительно быстрее, есть распараллеливание из коробки, автоматическая оптимизация запросов и пр\n",
    "- он позволяет работать с данными, которые не помещаются в оперативку, с этим поможет `pl.LazyFrame` и streaming\n",
    "- конечно же имеются дополнительные функции, которых в `pandas` нет, но очень хочется, например агрегации с расширяющимся окном, произвольные оконные функции и прочее, для этого есть крайне гибкая штука `pl.Expr`\n",
    "\n",
    "Подробнее можете прочитать на [любом](https://habr.com/ru/articles/710240/) [ресурсе](https://realpython.com/polars-python/), [посвящённом](https://blog.jetbrains.com/pycharm/2024/07/polars-vs-pandas/) [`polars`](https://habr.com/ru/companies/spectr/articles/738766/)\n",
    "\n",
    "В этой части потребуется выполнить несколько небольших заданий. Можно пойти двумя путями: сначала изучить материалы, а потом приступить к заданиям, или же разбираться \"по ходу\". Выбирайте сами\n",
    "\n",
    "Если не понятно, как вызывать конкретный метод, обратитесь к материалам ниже. Имейте в виду, что синтаксис `polars` отличается от привычного нампаевского.\n",
    "Скорее всего все ваши самые извращённые фантазии уже как-то реализованы в `polars`, поэтому читайте внимательно. Ну и конечно гуглить не запрещено, но желательно прикладывать источник\n",
    "\n",
    "Материалы:\n",
    "1. [Getting started](https://docs.pola.rs/user-guide/getting-started/#reading-writing) из официального руководства\n",
    "2. [Документация](https://docs.pola.rs/api/python/stable/reference/index.html) со всем необходимым\n",
    "3. [Модификация для Data Science](https://polars-ds-extension.readthedocs.io/en/latest/index.html), вам скорее всего не понадобится в данном задании, но имейте в виду\n",
    "\n",
    "Многие из заданий можно выполнить несколькими способами. Не существуют единственно верного, но попробуйте максимально задействовать арсенал polars и ориентируйтесь на простоту и понятность вашего кода. Мы не будем подсказывать, что нужно использовать для решения конкретной задачи, попробуйте находить необходимый функционал сами (название метода чаще всего очевидно)"
   ]
  },
  {
   "cell_type": "code",
   "execution_count": null,
   "metadata": {
    "id": "TwYQ-X_Q-m2A"
   },
   "outputs": [],
   "source": [
    "# поларс относительно молодой, имейте в виду, что что-то может сломаться, если будете менять версию\n",
    "!pip install -qU hvplot xlsx2csv polars==1.5.0"
   ]
  },
  {
   "cell_type": "code",
   "execution_count": 6,
   "metadata": {},
   "outputs": [
    {
     "name": "stdout",
     "output_type": "stream",
     "text": [
      "Collecting xlsx2csv\n",
      "  Downloading xlsx2csv-0.8.3-py3-none-any.whl.metadata (5.7 kB)\n",
      "Downloading xlsx2csv-0.8.3-py3-none-any.whl (15 kB)\n",
      "Installing collected packages: xlsx2csv\n",
      "Successfully installed xlsx2csv-0.8.3\n"
     ]
    }
   ],
   "source": [
    "!pip install xlsx2csv"
   ]
  },
  {
   "cell_type": "code",
   "execution_count": 1,
   "metadata": {
    "id": "72smvZpD3JKk"
   },
   "outputs": [],
   "source": [
    "import polars as pl"
   ]
  },
  {
   "cell_type": "markdown",
   "metadata": {
    "id": "hX2zRkMI3JKk"
   },
   "source": [
    "Скачаем данные:"
   ]
  },
  {
   "cell_type": "code",
   "execution_count": 3,
   "metadata": {
    "collapsed": true,
    "id": "a4wqrhEA3JKk",
    "jupyter": {
     "outputs_hidden": true
    }
   },
   "outputs": [
    {
     "name": "stderr",
     "output_type": "stream",
     "text": [
      "\"wget\" ­Ґ пў«пҐвбп ў­гваҐ­­Ґ© Ё«Ё ў­Ґи­Ґ©\n",
      "Є®¬ ­¤®©, ЁбЇ®«­пҐ¬®© Їа®Ја ¬¬®© Ё«Ё Ї ЄҐв­л¬ д ©«®¬.\n"
     ]
    }
   ],
   "source": [
    "!wget  -O 'end_seminar.xlsx' -q 'https://www.dropbox.com/s/f4rm8sjc3v99p0m/_end_seminar.xlsx?dl=0'"
   ]
  },
  {
   "cell_type": "markdown",
   "metadata": {
    "id": "joackhzP3JKl"
   },
   "source": [
    "Для пользователей Windows: скачайте файл самостоятельно и поместите его в папку с тетрадкой. Или попробуйте один из следующих вариантов:"
   ]
  },
  {
   "cell_type": "code",
   "execution_count": null,
   "metadata": {
    "id": "yhc9NUeE3JKl"
   },
   "outputs": [],
   "source": [
    "# !powershell iwr -outf somefile https://somesite/somefile"
   ]
  },
  {
   "cell_type": "code",
   "execution_count": null,
   "metadata": {
    "id": "FxbRPi183JKl"
   },
   "outputs": [],
   "source": [
    "# !pip install wget\n",
    "# import wget\n",
    "# wget.download('https://dropbox.com/s/f4rm8sjc3v99p0m/_end_seminar.xlsx?dl=1', 'end_seminar.xlsx')"
   ]
  },
  {
   "cell_type": "markdown",
   "metadata": {
    "id": "5hIwLXz43JKl"
   },
   "source": [
    "### 📌 **Обязательно прочитайте блок ниже**\n",
    "\n",
    "> Пандасом и нампаем пользоваться неельзяя... Совсем\n",
    "\n",
    "> В первой части задания (до раздела \"Распределение студентов по курсам\") использование циклов запрещается и повлечет за собой снижение оценки. Во второй уже можно, но с оговорками, о чём ниже\n",
    "\n",
    "> Циклами в данном случае считается `for`, `while` и map-методы `polars`, где можно использовать лямбда-функцию. Главным образом `map_elements` и его производные.\n",
    "И как правило, всё то, что не умеет делать `pl.LazyFrame` - список [здесь](https://docs.pola.rs/api/python/stable/reference/lazyframe/index.html). Мотивация следующая - используя встроенные функции и методы, `polars` может оптимизировать ваш запрос и провести все нужные манипуляции, прежде чем сериализовать и вывести ответ (за некоторыми исключениями), поэтому важно научиться с этим управляться\n",
    "\n",
    "> Чтобы сделать выбор `polars` осмысленным, мы немножко модифицируем исходный датасет. Он будет больше в несколько раз и может не влезть в память, если у вас меньше 8 Гб, а с учётом преобразований может потребоваться до 64 Гб! Не пренебрегайте возможностями `pl.LazyFrame`. Его использование не обязательно, но может сильно облегчить вам жизнь\n",
    "\n",
    "> Трансформировать датасет `df` можно, как только это потребуется по условию (таких пунктов всего 2), на всякий случай поставим значок 🔄\n",
    "\n",
    "> Если небрежно обращаться с методами `polars`, вы рискуете крашнуть ядро, взорвать компутер, потерять рассудок... Если вдруг у вас есть тачка или хотите подебажить на исходном датасете, то пожалуйста, но помните про условия выше\n",
    "\n",
    "> Гарантируется, что задание можно выполнить, имея лишь ресурсы Google Colab (бесплатные), удачи ( ͡° ͜ʖ ͡°)"
   ]
  },
  {
   "cell_type": "markdown",
   "metadata": {
    "id": "das_ZBWy3JKl"
   },
   "source": [
    "Для каждой задачи из этого раздела вы должны написать код для получения ответа, а также дать текстовый ответ, если он предполагается.\n",
    "\n",
    "На некоторые вопросы вы можете получить путём пристального взгляда на таблицу, но это не будет засчитываться. Вы в любом случае должны получить ответ с помощью кода."
   ]
  },
  {
   "cell_type": "markdown",
   "metadata": {
    "id": "7L9UmKvHSBhk"
   },
   "source": [
    "### 🐻 Бонус polars. [3 балла]\n",
    "Бонус за использование `polars` равен вашей оценке за дз, умноженной на коэффициент 1.3, поэтому даже если сделали не всё, не отчаивайтесь)"
   ]
  },
  {
   "cell_type": "markdown",
   "metadata": {
    "id": "KH2B5XPBDlgp"
   },
   "source": [
    "#### 0. Ещё пара красивых слов"
   ]
  },
  {
   "cell_type": "markdown",
   "metadata": {
    "id": "-pO9LsL5Dsds"
   },
   "source": [
    "Первые несколько манипуляций мы сделаем за вас, а заодно поясним, в чём тут нюанс"
   ]
  },
  {
   "cell_type": "code",
   "execution_count": 2,
   "metadata": {
    "colab": {
     "base_uri": "https://localhost:8080/"
    },
    "id": "Ee0QXmptDrX7",
    "outputId": "8e4d5bd7-52d1-4e61-bcce-7ea12d09eb95"
   },
   "outputs": [
    {
     "name": "stdout",
     "output_type": "stream",
     "text": [
      "361 rows\n",
      "0.14590930938720703 mb\n"
     ]
    }
   ],
   "source": [
    "# читаем датафрейм\n",
    "initial_df = pl.read_excel(\"_end_seminar.xlsx\", engine=\"xlsx2csv\")\n",
    "print(initial_df.shape[0], \"rows\")\n",
    "print(initial_df.estimated_size(\"mb\"), \"mb\")"
   ]
  },
  {
   "cell_type": "markdown",
   "metadata": {
    "id": "P0nMQNXCD1IO"
   },
   "source": [
    "Как видим, он достаточно маленький. С такими объёмами выбор библиотеки это чисто вкусовщина. Давайте немного поднимем ставки"
   ]
  },
  {
   "cell_type": "code",
   "execution_count": 3,
   "metadata": {
    "id": "PzBRfWY1ECOV"
   },
   "outputs": [],
   "source": [
    "def repeat_df(df: pl.DataFrame | pl.LazyFrame, n: int = 2) -> pl.LazyFrame:\n",
    "    return (\n",
    "        df.lazy()\n",
    "        .select(pl.col(\"timestamp\").unique().sort().repeat_by(n).flatten())\n",
    "        .join(df.lazy(), on=\"timestamp\", how=\"left\")\n",
    "    )"
   ]
  },
  {
   "cell_type": "markdown",
   "metadata": {
    "id": "loouiViPEHGJ"
   },
   "source": [
    "Для работы с датафреймами, которые в память не влезают, нам понадобится объект `pl.LazyFrame`. Он представляет из себя схему выполнения вашего запроса, который оптимизируется, бьётся на батчи и параллелится под капотом через StreamingAPI, что для нас просто идеально. Перевести объект туда можно через метод `lazy`, обратно через `collect`. Учтите, что `streaming=True` работает не со всеми операциями, применяйте с умом, это можно проверить через `pl.LazyFrame.explain(streaming=True)`"
   ]
  },
  {
   "cell_type": "code",
   "execution_count": 4,
   "metadata": {
    "colab": {
     "base_uri": "https://localhost:8080/"
    },
    "id": "OvTbmiSjEEfA",
    "outputId": "f8b11103-cacf-4a32-d4c8-af5cb5134bbf"
   },
   "outputs": [
    {
     "name": "stdout",
     "output_type": "stream",
     "text": [
      "Schema\n",
      "LEFT JOIN:\n",
      "LEFT PLAN ON: [col(\"timestamp\")]\n",
      "   SELECT [col(\"timestamp\").unique().sort(asc).repeat_by([dyn int: 2]).explode()] FROM\n",
      "    STREAMING:\n",
      "      DF [\"timestamp\", \"id\", \"rating\", \"18_group\"]; PROJECT 1/16 COLUMNS; SELECTION: None\n",
      "RIGHT PLAN ON: [col(\"timestamp\")]\n",
      "  DF [\"timestamp\", \"id\", \"rating\", \"18_group\"]; PROJECT */16 COLUMNS; SELECTION: None\n",
      "END LEFT JOIN\n"
     ]
    }
   ],
   "source": [
    "repeat_n = 2\n",
    "\n",
    "repeated_df = repeat_df(initial_df, repeat_n)\n",
    "print(\"Schema\")\n",
    "print(repeated_df.explain(streaming=True, optimized=True))"
   ]
  },
  {
   "cell_type": "code",
   "execution_count": 5,
   "metadata": {
    "colab": {
     "base_uri": "https://localhost:8080/"
    },
    "id": "7geBTZI6F691",
    "outputId": "0d7b8457-aad1-447c-efa3-b96263cf451d"
   },
   "outputs": [
    {
     "name": "stdout",
     "output_type": "stream",
     "text": [
      "722 rows\n",
      "0.2917900085449219 mb\n"
     ]
    }
   ],
   "source": [
    "# как видим, повторы работают\n",
    "repeated_df = repeated_df.collect()\n",
    "assert repeated_df.shape[0] == initial_df.shape[0] * repeat_n\n",
    "print(repeated_df.shape[0], \"rows\")\n",
    "print(repeated_df.estimated_size(\"mb\"), \"mb\")"
   ]
  },
  {
   "cell_type": "markdown",
   "metadata": {
    "id": "00wHctZJGe8s"
   },
   "source": [
    "Теперь ещё интереснее. Если бы наш датасет был не в 2 раза больше, а в 100000 раз, что бы мы делали? К счастью для нас, поларс может уместить 300кк строк всего лишь в 512Мб, и это даже не прикол, но работать с этим придётся немного иначе"
   ]
  },
  {
   "cell_type": "code",
   "execution_count": 6,
   "metadata": {
    "colab": {
     "base_uri": "https://localhost:8080/"
    },
    "id": "jm93pikEGqJi",
    "outputId": "6c910985-7cb1-4b62-e208-5a3c0a13f123"
   },
   "outputs": [
    {
     "name": "stdout",
     "output_type": "stream",
     "text": [
      "14.248955994844437 gb\n"
     ]
    }
   ],
   "source": [
    "N = 100000\n",
    "\n",
    "df = repeat_df(initial_df, N)\n",
    "print(initial_df.estimated_size(\"gb\") * N, \"gb\")"
   ]
  },
  {
   "cell_type": "markdown",
   "metadata": {
    "id": "MGMtuNEiG-xH"
   },
   "source": [
    "Поэтому даже такая тривиальная задача, как подсчёт строк становится уже не такой простой. Про это и будет дз"
   ]
  },
  {
   "cell_type": "code",
   "execution_count": 7,
   "metadata": {
    "colab": {
     "base_uri": "https://localhost:8080/"
    },
    "id": "pKo9lSvnHlgW",
    "outputId": "7b05d5fb-0ab1-4758-b883-433a1e2df805"
   },
   "outputs": [
    {
     "name": "stdout",
     "output_type": "stream",
     "text": [
      "ой, не получилось...\n"
     ]
    }
   ],
   "source": [
    "try:\n",
    "    print(df.shape[0], \"rows\")\n",
    "except AttributeError:\n",
    "    print(\"ой, не получилось...\")\n",
    "\n",
    "# df.collect().shape[0] # тоже можно, если влезет\n",
    "# len(df.collect().to_pandas()) # а такое может крашнуть ядро, попробуйте, хехе..."
   ]
  },
  {
   "cell_type": "code",
   "execution_count": 8,
   "metadata": {
    "colab": {
     "base_uri": "https://localhost:8080/"
    },
    "id": "mt-cWy3LHhvR",
    "outputId": "2465164c-a86a-4102-f636-90d0e4524e9f"
   },
   "outputs": [
    {
     "name": "stdout",
     "output_type": "stream",
     "text": [
      "36100000 rows\n"
     ]
    }
   ],
   "source": [
    "def lazy_len(df: pl.LazyFrame) -> int:\n",
    "    return df.select(pl.len()).collect().item()\n",
    "\n",
    "\n",
    "rows = lazy_len(df)  # намного экономнее, потому что оптимизировано под капотом\n",
    "assert rows == initial_df.shape[0] * N\n",
    "print(rows, \"rows\")"
   ]
  },
  {
   "cell_type": "markdown",
   "metadata": {
    "id": "JZd3QSTo3JKl"
   },
   "source": [
    "#### 1. [0.5 баллов] Откройте файл с таблицей (не забудьте про её формат). Выведите 3 последних строки\n",
    "\n",
    "Посмотрите на данные и скажите, что они из себя представляют, сколько в таблице строк, какие столбцы? (на это не надо отвечать, просто подумайте об этом)"
   ]
  },
  {
   "cell_type": "code",
   "execution_count": 9,
   "metadata": {},
   "outputs": [
    {
     "data": {
      "text/html": [
       "<div><style>\n",
       ".dataframe > thead > tr,\n",
       ".dataframe > tbody > tr {\n",
       "  text-align: right;\n",
       "  white-space: pre-wrap;\n",
       "}\n",
       "</style>\n",
       "<small>shape: (3, 16)</small><table border=\"1\" class=\"dataframe\"><thead><tr><th>timestamp</th><th>id</th><th>rating</th><th>18_group</th><th>is_mi</th><th>fall_1</th><th>fall_2</th><th>fall_3</th><th>spring_1</th><th>spring_2</th><th>spring_3</th><th>is_first_time</th><th>percentile</th><th>17_group</th><th>blended</th><th>is_ml_student</th></tr><tr><td>str</td><td>str</td><td>i64</td><td>i64</td><td>i64</td><td>str</td><td>str</td><td>str</td><td>str</td><td>str</td><td>str</td><td>str</td><td>f64</td><td>str</td><td>str</td><td>bool</td></tr></thead><tbody><tr><td>&quot;2020-05-24 01:23:31&quot;</td><td>&quot;9d19b0d5f4fc8d7edc2258406f872c…</td><td>695</td><td>188</td><td>null</td><td>&quot;Безопасность компьютерных сист…</td><td>&quot;Язык SQL&quot;</td><td>&quot;Высокопроизводительные вычисле…</td><td>&quot;Компьютерные сети&quot;</td><td>&quot;Дискретная оптимизация&quot;</td><td>&quot;Численные методы&quot;</td><td>null</td><td>0.197309</td><td>null</td><td>null</td><td>null</td></tr><tr><td>&quot;2020-05-24 01:23:31&quot;</td><td>&quot;9d19b0d5f4fc8d7edc2258406f872c…</td><td>695</td><td>188</td><td>null</td><td>&quot;Безопасность компьютерных сист…</td><td>&quot;Язык SQL&quot;</td><td>&quot;Высокопроизводительные вычисле…</td><td>&quot;Компьютерные сети&quot;</td><td>&quot;Дискретная оптимизация&quot;</td><td>&quot;Численные методы&quot;</td><td>null</td><td>0.197309</td><td>null</td><td>null</td><td>null</td></tr><tr><td>&quot;2020-05-24 01:23:31&quot;</td><td>&quot;9d19b0d5f4fc8d7edc2258406f872c…</td><td>695</td><td>188</td><td>null</td><td>&quot;Безопасность компьютерных сист…</td><td>&quot;Язык SQL&quot;</td><td>&quot;Высокопроизводительные вычисле…</td><td>&quot;Компьютерные сети&quot;</td><td>&quot;Дискретная оптимизация&quot;</td><td>&quot;Численные методы&quot;</td><td>null</td><td>0.197309</td><td>null</td><td>null</td><td>null</td></tr></tbody></table></div>"
      ],
      "text/plain": [
       "shape: (3, 16)\n",
       "┌─────────────────────┬──────────────────────┬────────┬──────────┬───┬────────────┬──────────┬─────────┬───────────────┐\n",
       "│ timestamp           ┆ id                   ┆ rating ┆ 18_group ┆ … ┆ percentile ┆ 17_group ┆ blended ┆ is_ml_student │\n",
       "│ ---                 ┆ ---                  ┆ ---    ┆ ---      ┆   ┆ ---        ┆ ---      ┆ ---     ┆ ---           │\n",
       "│ str                 ┆ str                  ┆ i64    ┆ i64      ┆   ┆ f64        ┆ str      ┆ str     ┆ bool          │\n",
       "╞═════════════════════╪══════════════════════╪════════╪══════════╪═══╪════════════╪══════════╪═════════╪═══════════════╡\n",
       "│ 2020-05-24 01:23:31 ┆ 9d19b0d5f4fc8d7edc22 ┆ 695    ┆ 188      ┆ … ┆ 0.197309   ┆ null     ┆ null    ┆ null          │\n",
       "│                     ┆ 58406f872c…          ┆        ┆          ┆   ┆            ┆          ┆         ┆               │\n",
       "│ 2020-05-24 01:23:31 ┆ 9d19b0d5f4fc8d7edc22 ┆ 695    ┆ 188      ┆ … ┆ 0.197309   ┆ null     ┆ null    ┆ null          │\n",
       "│                     ┆ 58406f872c…          ┆        ┆          ┆   ┆            ┆          ┆         ┆               │\n",
       "│ 2020-05-24 01:23:31 ┆ 9d19b0d5f4fc8d7edc22 ┆ 695    ┆ 188      ┆ … ┆ 0.197309   ┆ null     ┆ null    ┆ null          │\n",
       "│                     ┆ 58406f872c…          ┆        ┆          ┆   ┆            ┆          ┆         ┆               │\n",
       "└─────────────────────┴──────────────────────┴────────┴──────────┴───┴────────────┴──────────┴─────────┴───────────────┘"
      ]
     },
     "execution_count": 9,
     "metadata": {},
     "output_type": "execute_result"
    }
   ],
   "source": [
    "df.tail(3).collect()"
   ]
  },
  {
   "cell_type": "markdown",
   "metadata": {
    "id": "o74LHRbU3JKl"
   },
   "source": [
    "### Ответьте на вопросы:\n",
    "1. Сколько было уникальных пользователей из групп 18-го года набора, а сколько из групп 17-го года?"
   ]
  },
  {
   "cell_type": "code",
   "execution_count": 10,
   "metadata": {
    "id": "P8U67LmG3JKm"
   },
   "outputs": [
    {
     "name": "stdout",
     "output_type": "stream",
     "text": [
      "18 год набора: 213\n",
      "17 год набора: 134\n"
     ]
    }
   ],
   "source": [
    "print(\"18 год набора:\", \n",
    "        df.filter(pl.col(\"18_group\").is_not_null()).unique(subset=[\"id\"]) \\\n",
    "        .select(pl.len()).collect().item()\n",
    "     )\n",
    "\n",
    "print(\"17 год набора:\", \n",
    "        df.filter(pl.col(\"17_group\").is_not_null()).unique(subset=[\"id\"]) \\\n",
    "        .select(pl.len()).collect().item()\n",
    "     )"
   ]
  },
  {
   "cell_type": "markdown",
   "metadata": {
    "id": "nKYih84LTNfe"
   },
   "source": [
    "2. Есть ли уникальные студенты с равными перцентилями?"
   ]
  },
  {
   "cell_type": "code",
   "execution_count": 11,
   "metadata": {
    "id": "VlZxsjoO9964"
   },
   "outputs": [
    {
     "name": "stdout",
     "output_type": "stream",
     "text": [
      "1\n"
     ]
    }
   ],
   "source": [
    "print(\n",
    "    df.unique(subset=[\"id\"]).select(pl.len()).collect().item() -\n",
    "    df.unique(subset=[\"id\"]).unique(subset=[\"percentile\"]) \\\n",
    "    .select(pl.len()).collect().item()\n",
    ")"
   ]
  },
  {
   "cell_type": "markdown",
   "metadata": {},
   "source": [
    "Есть одна пара студентов с неуникальным перцентилем - очевидно, это люди с перцентилем 0, один с потока 17 года, другой - с потока 18"
   ]
  },
  {
   "cell_type": "markdown",
   "metadata": {
    "id": "PObB1agk3JKm"
   },
   "source": [
    "#### 2. [0.5 балла] Есть ли в данных пропуски? В каких колонках? Сколько их в каждой из этих колонок?\n",
    "\n",
    "Уникальных или нет - не столь важно"
   ]
  },
  {
   "cell_type": "code",
   "execution_count": 9,
   "metadata": {
    "id": "zmMJ5oSi3JKm"
   },
   "outputs": [
    {
     "data": {
      "text/html": [
       "<div><style>\n",
       ".dataframe > thead > tr,\n",
       ".dataframe > tbody > tr {\n",
       "  text-align: right;\n",
       "  white-space: pre-wrap;\n",
       "}\n",
       "</style>\n",
       "<small>shape: (1, 16)</small><table border=\"1\" class=\"dataframe\"><thead><tr><th>timestamp</th><th>id</th><th>rating</th><th>18_group</th><th>is_mi</th><th>fall_1</th><th>fall_2</th><th>fall_3</th><th>spring_1</th><th>spring_2</th><th>spring_3</th><th>is_first_time</th><th>percentile</th><th>17_group</th><th>blended</th><th>is_ml_student</th></tr><tr><td>u32</td><td>u32</td><td>u32</td><td>u32</td><td>u32</td><td>u32</td><td>u32</td><td>u32</td><td>u32</td><td>u32</td><td>u32</td><td>u32</td><td>u32</td><td>u32</td><td>u32</td><td>u32</td></tr></thead><tbody><tr><td>0</td><td>0</td><td>0</td><td>13800000</td><td>34300000</td><td>0</td><td>0</td><td>0</td><td>0</td><td>0</td><td>0</td><td>200000</td><td>0</td><td>22300000</td><td>22300000</td><td>30400000</td></tr></tbody></table></div>"
      ],
      "text/plain": [
       "shape: (1, 16)\n",
       "┌───────────┬─────┬────────┬──────────┬───┬────────────┬──────────┬──────────┬───────────────┐\n",
       "│ timestamp ┆ id  ┆ rating ┆ 18_group ┆ … ┆ percentile ┆ 17_group ┆ blended  ┆ is_ml_student │\n",
       "│ ---       ┆ --- ┆ ---    ┆ ---      ┆   ┆ ---        ┆ ---      ┆ ---      ┆ ---           │\n",
       "│ u32       ┆ u32 ┆ u32    ┆ u32      ┆   ┆ u32        ┆ u32      ┆ u32      ┆ u32           │\n",
       "╞═══════════╪═════╪════════╪══════════╪═══╪════════════╪══════════╪══════════╪═══════════════╡\n",
       "│ 0         ┆ 0   ┆ 0      ┆ 13800000 ┆ … ┆ 0          ┆ 22300000 ┆ 22300000 ┆ 30400000      │\n",
       "└───────────┴─────┴────────┴──────────┴───┴────────────┴──────────┴──────────┴───────────────┘"
      ]
     },
     "execution_count": 9,
     "metadata": {},
     "output_type": "execute_result"
    }
   ],
   "source": [
    "df.null_count().collect()"
   ]
  },
  {
   "cell_type": "markdown",
   "metadata": {
    "id": "H0gva-uD3JKm"
   },
   "source": [
    "🔄 Преобразуйте датасет - заполните пропуски пустой строкой для строковых колонок, нулём для числовых и False для булевых (постарайтесь избежать перечисления названий всех столбцов)."
   ]
  },
  {
   "cell_type": "code",
   "execution_count": 7,
   "metadata": {
    "id": "1WOBP3Yx3JKm"
   },
   "outputs": [],
   "source": [
    "str_cols = df.select(pl.col(pl.String)).collect_schema().names()\n",
    "bool_cols = df.select(pl.col(pl.Boolean)).collect_schema().names()\n",
    "int_cols = df.select(pl.col(pl.Int64)).collect_schema().names()\n",
    "\n",
    "df = df.with_columns(pl.col(str_cols).fill_null(\"\"),\n",
    "                pl.col(bool_cols).fill_null(False),\n",
    "                pl.col(int_cols).fill_null(0))"
   ]
  },
  {
   "cell_type": "code",
   "execution_count": 11,
   "metadata": {},
   "outputs": [
    {
     "data": {
      "text/html": [
       "<div><style>\n",
       ".dataframe > thead > tr,\n",
       ".dataframe > tbody > tr {\n",
       "  text-align: right;\n",
       "  white-space: pre-wrap;\n",
       "}\n",
       "</style>\n",
       "<small>shape: (1, 16)</small><table border=\"1\" class=\"dataframe\"><thead><tr><th>timestamp</th><th>id</th><th>rating</th><th>18_group</th><th>is_mi</th><th>fall_1</th><th>fall_2</th><th>fall_3</th><th>spring_1</th><th>spring_2</th><th>spring_3</th><th>is_first_time</th><th>percentile</th><th>17_group</th><th>blended</th><th>is_ml_student</th></tr><tr><td>u32</td><td>u32</td><td>u32</td><td>u32</td><td>u32</td><td>u32</td><td>u32</td><td>u32</td><td>u32</td><td>u32</td><td>u32</td><td>u32</td><td>u32</td><td>u32</td><td>u32</td><td>u32</td></tr></thead><tbody><tr><td>0</td><td>0</td><td>0</td><td>0</td><td>0</td><td>0</td><td>0</td><td>0</td><td>0</td><td>0</td><td>0</td><td>0</td><td>0</td><td>0</td><td>0</td><td>0</td></tr></tbody></table></div>"
      ],
      "text/plain": [
       "shape: (1, 16)\n",
       "┌───────────┬─────┬────────┬──────────┬───┬────────────┬──────────┬─────────┬───────────────┐\n",
       "│ timestamp ┆ id  ┆ rating ┆ 18_group ┆ … ┆ percentile ┆ 17_group ┆ blended ┆ is_ml_student │\n",
       "│ ---       ┆ --- ┆ ---    ┆ ---      ┆   ┆ ---        ┆ ---      ┆ ---     ┆ ---           │\n",
       "│ u32       ┆ u32 ┆ u32    ┆ u32      ┆   ┆ u32        ┆ u32      ┆ u32     ┆ u32           │\n",
       "╞═══════════╪═════╪════════╪══════════╪═══╪════════════╪══════════╪═════════╪═══════════════╡\n",
       "│ 0         ┆ 0   ┆ 0      ┆ 0        ┆ … ┆ 0          ┆ 0        ┆ 0       ┆ 0             │\n",
       "└───────────┴─────┴────────┴──────────┴───┴────────────┴──────────┴─────────┴───────────────┘"
      ]
     },
     "execution_count": 11,
     "metadata": {},
     "output_type": "execute_result"
    }
   ],
   "source": [
    "df.null_count().collect()"
   ]
  },
  {
   "cell_type": "markdown",
   "metadata": {
    "id": "a0TfG6CY3JKn"
   },
   "source": [
    "#### 3. [0.5 балла] Посмотрите повнимательнее на колонку 'is_first_time'.\n",
    "\n",
    "Каково процентное соотношение ответов? Сколько из них \"Нет\"?"
   ]
  },
  {
   "cell_type": "code",
   "execution_count": 12,
   "metadata": {
    "id": "wGolS2eY3JKn"
   },
   "outputs": [
    {
     "data": {
      "text/html": [
       "<div><style>\n",
       ".dataframe > thead > tr,\n",
       ".dataframe > tbody > tr {\n",
       "  text-align: right;\n",
       "  white-space: pre-wrap;\n",
       "}\n",
       "</style>\n",
       "<small>shape: (3, 3)</small><table border=\"1\" class=\"dataframe\"><thead><tr><th>is_first_time</th><th>len</th><th>percentage</th></tr><tr><td>str</td><td>u32</td><td>f64</td></tr></thead><tbody><tr><td>&quot;Нет&quot;</td><td>5100000</td><td>0.141274</td></tr><tr><td>&quot;Да&quot;</td><td>30800000</td><td>0.853186</td></tr><tr><td>&quot;&quot;</td><td>200000</td><td>0.00554</td></tr></tbody></table></div>"
      ],
      "text/plain": [
       "shape: (3, 3)\n",
       "┌───────────────┬──────────┬────────────┐\n",
       "│ is_first_time ┆ len      ┆ percentage │\n",
       "│ ---           ┆ ---      ┆ ---        │\n",
       "│ str           ┆ u32      ┆ f64        │\n",
       "╞═══════════════╪══════════╪════════════╡\n",
       "│ Нет           ┆ 5100000  ┆ 0.141274   │\n",
       "│ Да            ┆ 30800000 ┆ 0.853186   │\n",
       "│               ┆ 200000   ┆ 0.00554    │\n",
       "└───────────────┴──────────┴────────────┘"
      ]
     },
     "execution_count": 12,
     "metadata": {},
     "output_type": "execute_result"
    }
   ],
   "source": [
    "df.group_by(\"is_first_time\").len().collect().with_columns((pl.col(\"len\") / pl.sum(\"len\")).alias(\"percentage\"))"
   ]
  },
  {
   "cell_type": "markdown",
   "metadata": {
    "id": "ffyqq0ilf0pv"
   },
   "source": [
    "🔄 Оставьте только самую позднюю версию обращений студентов и сохраните изменения"
   ]
  },
  {
   "cell_type": "code",
   "execution_count": 8,
   "metadata": {
    "id": "kIgPHwvOA0tg"
   },
   "outputs": [],
   "source": [
    "#df = df.sort(by=\"timestamp\", descending=False).unique(subset=[\"id\"], keep=\"last\")\n",
    "df = df.unique(subset=[\"id\"], keep=\"last\")"
   ]
  },
  {
   "cell_type": "markdown",
   "metadata": {
    "id": "EXTt7DAJ3JKn"
   },
   "source": [
    "#### 4. [0.5 балла] Какие  blended-курсы для четверокурсников существуют? На какой blended-курс записалось наибольшее количество студентов? На каком из курсов собрались студенты с самым высоким средним рейтингом?"
   ]
  },
  {
   "cell_type": "code",
   "execution_count": 14,
   "metadata": {
    "id": "gJ0SzAfheBBi"
   },
   "outputs": [
    {
     "data": {
      "text/html": [
       "<div><style>\n",
       ".dataframe > thead > tr,\n",
       ".dataframe > tbody > tr {\n",
       "  text-align: right;\n",
       "  white-space: pre-wrap;\n",
       "}\n",
       "</style>\n",
       "<small>shape: (3, 3)</small><table border=\"1\" class=\"dataframe\"><thead><tr><th>blended</th><th>Количество записавшихся</th><th>Средний рейтинг</th></tr><tr><td>str</td><td>u32</td><td>f64</td></tr></thead><tbody><tr><td>&quot;Введение в дифференциальную ге…</td><td>15</td><td>1210.733333</td></tr><tr><td>&quot;DevOps&quot;</td><td>87</td><td>1154.172414</td></tr><tr><td>&quot;Соревновательный анализ данных&quot;</td><td>32</td><td>1144.21875</td></tr></tbody></table></div>"
      ],
      "text/plain": [
       "shape: (3, 3)\n",
       "┌─────────────────────────────────┬─────────────────────────┬─────────────────┐\n",
       "│ blended                         ┆ Количество записавшихся ┆ Средний рейтинг │\n",
       "│ ---                             ┆ ---                     ┆ ---             │\n",
       "│ str                             ┆ u32                     ┆ f64             │\n",
       "╞═════════════════════════════════╪═════════════════════════╪═════════════════╡\n",
       "│ Введение в дифференциальную ге… ┆ 15                      ┆ 1210.733333     │\n",
       "│ DevOps                          ┆ 87                      ┆ 1154.172414     │\n",
       "│ Соревновательный анализ данных  ┆ 32                      ┆ 1144.21875      │\n",
       "└─────────────────────────────────┴─────────────────────────┴─────────────────┘"
      ]
     },
     "execution_count": 14,
     "metadata": {},
     "output_type": "execute_result"
    }
   ],
   "source": [
    "df.filter(pl.col(\"17_group\") != \"\").group_by(\"blended\").agg([pl.len().alias(\"Количество записавшихся\"),\n",
    "                                                             pl.mean(\"rating\").alias(\"Средний рейтинг\")]).collect()"
   ]
  },
  {
   "cell_type": "markdown",
   "metadata": {
    "id": "afbGGxV73JKn"
   },
   "source": [
    "#### 5. [1 балл] Выясните, есть ли студенты с абсолютно одинаковыми предпочтениями по всем курсам.\n",
    "\n",
    "Для этого сформируйте таблицу, где для каждого возможного набора курсов посчитано количество студентов, выбравших такой набор, и оставьте только строки где это количество больше 1.\n",
    "\n",
    "В данном случае набор курсов задается упорядоченным множеством ('fall_1', 'fall_2', 'fall_3', 'spring_1', 'spring_2', 'spring_3', 'blended'). Элемент blended будет нулевым для 3-го курса."
   ]
  },
  {
   "cell_type": "code",
   "execution_count": 15,
   "metadata": {
    "id": "fNXhoAMw3JKn"
   },
   "outputs": [
    {
     "data": {
      "text/html": [
       "<div><style>\n",
       ".dataframe > thead > tr,\n",
       ".dataframe > tbody > tr {\n",
       "  text-align: right;\n",
       "  white-space: pre-wrap;\n",
       "}\n",
       "</style>\n",
       "<small>shape: (15, 8)</small><table border=\"1\" class=\"dataframe\"><thead><tr><th>fall_1</th><th>fall_2</th><th>fall_3</th><th>spring_1</th><th>spring_2</th><th>spring_3</th><th>blended</th><th>len</th></tr><tr><td>str</td><td>str</td><td>str</td><td>str</td><td>str</td><td>str</td><td>str</td><td>u32</td></tr></thead><tbody><tr><td>&quot;Безопасность компьютерных сист…</td><td>&quot;Теория баз данных&quot;</td><td>&quot;Язык SQL&quot;</td><td>&quot;Машинное обучение 2&quot;</td><td>&quot;Компьютерные сети&quot;</td><td>&quot;Промышленное программирование …</td><td>&quot;&quot;</td><td>2</td></tr><tr><td>&quot;Безопасность компьютерных сист…</td><td>&quot;Сбор и обработка данных с помо…</td><td>&quot;Матричные вычисления&quot;</td><td>&quot;Компьютерные сети&quot;</td><td>&quot;Промышленное программирование …</td><td>&quot;Анализ данных в бизнесе&quot;</td><td>&quot;&quot;</td><td>2</td></tr><tr><td>&quot;Безопасность компьютерных сист…</td><td>&quot;Высокопроизводительные вычисле…</td><td>&quot;Язык SQL&quot;</td><td>&quot;Компьютерные сети&quot;</td><td>&quot;Промышленное программирование …</td><td>&quot;Дискретная оптимизация&quot;</td><td>&quot;&quot;</td><td>3</td></tr><tr><td>&quot;Сбор и обработка данных с помо…</td><td>&quot;Язык SQL&quot;</td><td>&quot;Теория баз данных&quot;</td><td>&quot;Промышленное программирование …</td><td>&quot;Машинное обучение 2&quot;</td><td>&quot;Компьютерные сети&quot;</td><td>&quot;&quot;</td><td>2</td></tr><tr><td>&quot;Высокопроизводительные вычисле…</td><td>&quot;Безопасность компьютерных сист…</td><td>&quot;Сбор и обработка данных с помо…</td><td>&quot;Проектирование и разработка вы…</td><td>&quot;Методы сжатия и передачи медиа…</td><td>&quot;Компьютерное зрение&quot;</td><td>&quot;DevOps&quot;</td><td>2</td></tr><tr><td>&hellip;</td><td>&hellip;</td><td>&hellip;</td><td>&hellip;</td><td>&hellip;</td><td>&hellip;</td><td>&hellip;</td><td>&hellip;</td></tr><tr><td>&quot;Statistical Learning Theory&quot;</td><td>&quot;Анализ неструктурированных дан…</td><td>&quot;Сбор и обработка данных с помо…</td><td>&quot;Обучение с подкреплением&quot;</td><td>&quot;Конфликты и кооперация&quot;</td><td>&quot;Компьютерное зрение&quot;</td><td>&quot;DevOps&quot;</td><td>2</td></tr><tr><td>&quot;Байесовские методы машинного о…</td><td>&quot;Анализ неструктурированных дан…</td><td>&quot;Сбор и обработка данных с помо…</td><td>&quot;Обучение с подкреплением&quot;</td><td>&quot;Компьютерное зрение&quot;</td><td>&quot;Генеративные модели в машинном…</td><td>&quot;DevOps&quot;</td><td>2</td></tr><tr><td>&quot;Безопасность компьютерных сист…</td><td>&quot;Statistical Learning Theory&quot;</td><td>&quot;Матричные вычисления&quot;</td><td>&quot;Дискретная оптимизация&quot;</td><td>&quot;Промышленное программирование …</td><td>&quot;Дополнительные главы прикладно…</td><td>&quot;&quot;</td><td>3</td></tr><tr><td>&quot;Безопасность компьютерных сист…</td><td>&quot;Высокопроизводительные вычисле…</td><td>&quot;Язык SQL&quot;</td><td>&quot;Промышленное программирование …</td><td>&quot;Компьютерные сети&quot;</td><td>&quot;Системы баз данных&quot;</td><td>&quot;&quot;</td><td>2</td></tr><tr><td>&quot;Высокопроизводительные вычисле…</td><td>&quot;Сбор и обработка данных с помо…</td><td>&quot;Моделирование временных рядов&quot;</td><td>&quot;Проектирование и разработка вы…</td><td>&quot;Методы сжатия и передачи медиа…</td><td>&quot;Методы сжатия и передачи медиа…</td><td>&quot;DevOps&quot;</td><td>2</td></tr></tbody></table></div>"
      ],
      "text/plain": [
       "shape: (15, 8)\n",
       "┌─────────────────┬────────────────┬────────────────┬────────────────┬────────────────┬────────────────┬─────────┬─────┐\n",
       "│ fall_1          ┆ fall_2         ┆ fall_3         ┆ spring_1       ┆ spring_2       ┆ spring_3       ┆ blended ┆ len │\n",
       "│ ---             ┆ ---            ┆ ---            ┆ ---            ┆ ---            ┆ ---            ┆ ---     ┆ --- │\n",
       "│ str             ┆ str            ┆ str            ┆ str            ┆ str            ┆ str            ┆ str     ┆ u32 │\n",
       "╞═════════════════╪════════════════╪════════════════╪════════════════╪════════════════╪════════════════╪═════════╪═════╡\n",
       "│ Безопасность    ┆ Теория баз     ┆ Язык SQL       ┆ Машинное       ┆ Компьютерные   ┆ Промышленное   ┆         ┆ 2   │\n",
       "│ компьютерных    ┆ данных         ┆                ┆ обучение 2     ┆ сети           ┆ программирован ┆         ┆     │\n",
       "│ сист…           ┆                ┆                ┆                ┆                ┆ ие …           ┆         ┆     │\n",
       "│ Безопасность    ┆ Сбор и         ┆ Матричные      ┆ Компьютерные   ┆ Промышленное   ┆ Анализ данных  ┆         ┆ 2   │\n",
       "│ компьютерных    ┆ обработка      ┆ вычисления     ┆ сети           ┆ программирован ┆ в бизнесе      ┆         ┆     │\n",
       "│ сист…           ┆ данных с помо… ┆                ┆                ┆ ие …           ┆                ┆         ┆     │\n",
       "│ Безопасность    ┆ Высокопроизвод ┆ Язык SQL       ┆ Компьютерные   ┆ Промышленное   ┆ Дискретная     ┆         ┆ 3   │\n",
       "│ компьютерных    ┆ ительные       ┆                ┆ сети           ┆ программирован ┆ оптимизация    ┆         ┆     │\n",
       "│ сист…           ┆ вычисле…       ┆                ┆                ┆ ие …           ┆                ┆         ┆     │\n",
       "│ Сбор и          ┆ Язык SQL       ┆ Теория баз     ┆ Промышленное   ┆ Машинное       ┆ Компьютерные   ┆         ┆ 2   │\n",
       "│ обработка       ┆                ┆ данных         ┆ программирован ┆ обучение 2     ┆ сети           ┆         ┆     │\n",
       "│ данных с помо…  ┆                ┆                ┆ ие …           ┆                ┆                ┆         ┆     │\n",
       "│ Высокопроизводи ┆ Безопасность   ┆ Сбор и         ┆ Проектирование ┆ Методы сжатия  ┆ Компьютерное   ┆ DevOps  ┆ 2   │\n",
       "│ тельные         ┆ компьютерных   ┆ обработка      ┆ и разработка   ┆ и передачи     ┆ зрение         ┆         ┆     │\n",
       "│ вычисле…        ┆ сист…          ┆ данных с помо… ┆ вы…            ┆ медиа…         ┆                ┆         ┆     │\n",
       "│ …               ┆ …              ┆ …              ┆ …              ┆ …              ┆ …              ┆ …       ┆ …   │\n",
       "│ Statistical     ┆ Анализ неструк ┆ Сбор и         ┆ Обучение с     ┆ Конфликты и    ┆ Компьютерное   ┆ DevOps  ┆ 2   │\n",
       "│ Learning Theory ┆ турированных   ┆ обработка      ┆ подкреплением  ┆ кооперация     ┆ зрение         ┆         ┆     │\n",
       "│                 ┆ дан…           ┆ данных с помо… ┆                ┆                ┆                ┆         ┆     │\n",
       "│ Байесовские     ┆ Анализ неструк ┆ Сбор и         ┆ Обучение с     ┆ Компьютерное   ┆ Генеративные   ┆ DevOps  ┆ 2   │\n",
       "│ методы          ┆ турированных   ┆ обработка      ┆ подкреплением  ┆ зрение         ┆ модели в       ┆         ┆     │\n",
       "│ машинного о…    ┆ дан…           ┆ данных с помо… ┆                ┆                ┆ машинном…      ┆         ┆     │\n",
       "│ Безопасность    ┆ Statistical    ┆ Матричные      ┆ Дискретная     ┆ Промышленное   ┆ Дополнительные ┆         ┆ 3   │\n",
       "│ компьютерных    ┆ Learning       ┆ вычисления     ┆ оптимизация    ┆ программирован ┆ главы          ┆         ┆     │\n",
       "│ сист…           ┆ Theory         ┆                ┆                ┆ ие …           ┆ прикладно…     ┆         ┆     │\n",
       "│ Безопасность    ┆ Высокопроизвод ┆ Язык SQL       ┆ Промышленное   ┆ Компьютерные   ┆ Системы баз    ┆         ┆ 2   │\n",
       "│ компьютерных    ┆ ительные       ┆                ┆ программирован ┆ сети           ┆ данных         ┆         ┆     │\n",
       "│ сист…           ┆ вычисле…       ┆                ┆ ие …           ┆                ┆                ┆         ┆     │\n",
       "│ Высокопроизводи ┆ Сбор и         ┆ Моделирование  ┆ Проектирование ┆ Методы сжатия  ┆ Методы сжатия  ┆ DevOps  ┆ 2   │\n",
       "│ тельные         ┆ обработка      ┆ временных      ┆ и разработка   ┆ и передачи     ┆ и передачи     ┆         ┆     │\n",
       "│ вычисле…        ┆ данных с помо… ┆ рядов          ┆ вы…            ┆ медиа…         ┆ медиа…         ┆         ┆     │\n",
       "└─────────────────┴────────────────┴────────────────┴────────────────┴────────────────┴────────────────┴─────────┴─────┘"
      ]
     },
     "execution_count": 15,
     "metadata": {},
     "output_type": "execute_result"
    }
   ],
   "source": [
    "df.group_by([\"fall_1\", \"fall_2\", \"fall_3\", \"spring_1\", \"spring_2\", \"spring_3\", \"blended\"]).len().filter(pl.col(\"len\") > 1).collect()"
   ]
  },
  {
   "cell_type": "markdown",
   "metadata": {
    "id": "JU0vq96o3JKo"
   },
   "source": [
    "#### 6. [0.5 балла] Найдите курсы по выбору, на которые записывались как студенты 18-го года набора, так и студенты 17-го года."
   ]
  },
  {
   "cell_type": "code",
   "execution_count": 16,
   "metadata": {
    "id": "xIrynPwgesQU"
   },
   "outputs": [],
   "source": [
    "courses_18 = df.filter(pl.col(\"18_group\") != 0) \\\n",
    "            .with_columns(courses=pl.concat_list(\"fall_1\", \"fall_2\", \"fall_3\", \"spring_1\", \"spring_2\", \"spring_3\")) \\\n",
    "            .select(pl.col(\"courses\")).explode(\"courses\").unique(\"courses\").collect()\n",
    "\n",
    "courses_17 = df.filter(pl.col(\"17_group\") != \"\") \\\n",
    "            .with_columns(courses=pl.concat_list(\"fall_1\", \"fall_2\", \"fall_3\", \"spring_1\", \"spring_2\", \"spring_3\")) \\\n",
    "            .select(pl.col(\"courses\")).explode(\"courses\").unique(\"courses\").collect()"
   ]
  },
  {
   "cell_type": "code",
   "execution_count": 17,
   "metadata": {},
   "outputs": [
    {
     "name": "stdout",
     "output_type": "stream",
     "text": [
      "Курсы, предлагавшиеся студентам обоих наборов {'Безопасность компьютерных систем', 'Сбор и обработка данных с помощью краудсорсинга', 'Моделирование временных рядов', 'Численные методы', 'Принятие решений в условиях риска и неопределённости', 'Statistical Learning Theory', 'Высокопроизводительные вычисления'}\n"
     ]
    }
   ],
   "source": [
    "print(\n",
    "    \"Курсы, предлагавшиеся студентам обоих наборов\",\n",
    "    set(courses_17.to_series().to_list()).intersection((courses_18.to_series().to_list()))\n",
    ")"
   ]
  },
  {
   "cell_type": "markdown",
   "metadata": {
    "id": "NMkajSaI3JKr"
   },
   "source": [
    "Методом исключения найдите курсы, которые предлагались только студентам 18-го года и только студентам 17-го года."
   ]
  },
  {
   "cell_type": "code",
   "execution_count": 18,
   "metadata": {
    "id": "enzNaFLP3JKs"
   },
   "outputs": [
    {
     "name": "stdout",
     "output_type": "stream",
     "text": [
      "Курсы, предлагавшиеся только студентам 17 года {'Глубинное обучение в обработке звука', 'Символьные вычисления', 'Проектирование и разработка высоконагруженных сервисов', 'Обучение с подкреплением', 'Компьютерное зрение', 'Генеративные модели в машинном обучении', 'Байесовские методы машинного обучения', 'Конфликты и кооперация', 'Методы сжатия и передачи медиаданных', 'Анализ неструктурированных данных'}\n",
      "Курсы, предлагавшиеся только студентам 18 года {'Язык SQL', 'Дискретная оптимизация', 'Машинное обучение 2', 'Промышленное программирование на языке Java', 'Анализ данных в бизнесе', 'Теория баз данных', 'Матричные вычисления', 'Дополнительные главы прикладной статистики', 'Компьютерные сети', 'Системы баз данных'}\n"
     ]
    }
   ],
   "source": [
    "print(\n",
    "    \"Курсы, предлагавшиеся только студентам 17 года\",\n",
    "    set(courses_17.to_series().to_list()).difference((courses_18.to_series().to_list()))\n",
    ")\n",
    "\n",
    "print(\n",
    "    \"Курсы, предлагавшиеся только студентам 18 года\",\n",
    "    set(courses_18.to_series().to_list()).difference((courses_17.to_series().to_list()))\n",
    ")"
   ]
  },
  {
   "cell_type": "markdown",
   "metadata": {
    "id": "c5TmcNdI3JKs"
   },
   "source": [
    "### Визуализации"
   ]
  },
  {
   "cell_type": "markdown",
   "metadata": {
    "id": "74juA0bp3JKs"
   },
   "source": [
    "При работе с данными часто неудобно делать какие-то выводы, если смотреть на таблицу и числа в частности, поэтому важно уметь визуализировать данные. Здесь будут описаны ключевые правила оформления графиков для **всех** домашних заданий.\n",
    "\n",
    "У matplotlib, конечно же, есть [документация](https://matplotlib.org/users/index.html) с большим количеством [примеров](https://matplotlib.org/examples/), но для начала достаточно знать про несколько основных типов графиков:\n",
    "- plot — обычный поточечный график, которым можно изображать кривые или отдельные точки;\n",
    "- hist — гистограмма, показывающая распределение некоторой величины;\n",
    "- scatter — график, показывающий взаимосвязь двух величин;\n",
    "- bar — столбцовый график, показывающий взаимосвязь количественной величины от категориальной.\n",
    "\n",
    "В этом задании вы попробуете построить один из них. Не забывайте про базовые принципы построения приличных графиков:\n",
    "- оси должны быть подписаны, причём не слишком мелко;\n",
    "- у графика должно быть название;\n",
    "- если изображено несколько графиков, то необходима поясняющая легенда;\n",
    "- все линии на графиках должны быть чётко видны (нет похожих цветов или цветов, сливающихся с фоном);\n",
    "- если возможно сделать график интерактивным, это обычно того стоит - помогает решить проблемы с читаемостью;\n",
    "- если отображена величина, имеющая очевидный диапазон значений (например, проценты могут быть от 0 до 100), то желательно масштабировать ось на весь диапазон значений (исключением является случай, когда вам необходимо показать малое отличие, которое незаметно в таких масштабах);\n",
    "- сетка на графике помогает оценить значения в точках на глаз, это обычно полезно, поэтому лучше ее отрисовывать;\n",
    "- если распределение на гистограмме имеет тяжёлые хвосты, лучше использовать логарифмическую шкалу.\n",
    "\n",
    "Еще одна билиотека для визуализации: [seaborn](https://jakevdp.github.io/PythonDataScienceHandbook/04.14-visualization-with-seaborn.html). Это настройка над matplotlib, иногда удобнее и красивее делать визуализации через неё.\n",
    "\n",
    "У `polars` уже есть встроенные инструменты для визуализации, в частности интерактивные на базе [hvplot](https://docs.pola.rs/user-guide/misc/visualization/#plotly). Из её преимуществ - хорошая производительность при работе с большими данными, есть поддержка самых популярных видов графиков, но синтаксис не самый удобный"
   ]
  },
  {
   "cell_type": "code",
   "execution_count": 19,
   "metadata": {},
   "outputs": [
    {
     "name": "stdout",
     "output_type": "stream",
     "text": [
      "Requirement already satisfied: pyarrow in c:\\users\\vadim\\appdata\\local\\programs\\python\\python312\\lib\\site-packages (17.0.0)\n",
      "Requirement already satisfied: numpy>=1.16.6 in c:\\users\\vadim\\appdata\\local\\programs\\python\\python312\\lib\\site-packages (from pyarrow) (2.1.1)\n"
     ]
    }
   ],
   "source": [
    "!pip install pyarrow"
   ]
  },
  {
   "cell_type": "code",
   "execution_count": 20,
   "metadata": {
    "scrolled": true
   },
   "outputs": [
    {
     "data": {
      "text/html": [
       "<script type=\"esms-options\">{\"shimMode\": true}</script><style>*[data-root-id],\n",
       "*[data-root-id] > * {\n",
       "  box-sizing: border-box;\n",
       "  font-family: var(--jp-ui-font-family);\n",
       "  font-size: var(--jp-ui-font-size1);\n",
       "  color: var(--vscode-editor-foreground, var(--jp-ui-font-color1));\n",
       "}\n",
       "\n",
       "/* Override VSCode background color */\n",
       ".cell-output-ipywidget-background:has(\n",
       "    > .cell-output-ipywidget-background > .lm-Widget > *[data-root-id]\n",
       "  ),\n",
       ".cell-output-ipywidget-background:has(> .lm-Widget > *[data-root-id]) {\n",
       "  background-color: transparent !important;\n",
       "}\n",
       "</style>"
      ]
     },
     "metadata": {},
     "output_type": "display_data"
    },
    {
     "data": {
      "application/javascript": [
       "(function(root) {\n",
       "  function now() {\n",
       "    return new Date();\n",
       "  }\n",
       "\n",
       "  const force = true;\n",
       "  const py_version = '3.5.2'.replace('rc', '-rc.').replace('.dev', '-dev.');\n",
       "  const reloading = false;\n",
       "  const Bokeh = root.Bokeh;\n",
       "\n",
       "  // Set a timeout for this load but only if we are not already initializing\n",
       "  if (typeof (root._bokeh_timeout) === \"undefined\" || (force || !root._bokeh_is_initializing)) {\n",
       "    root._bokeh_timeout = Date.now() + 5000;\n",
       "    root._bokeh_failed_load = false;\n",
       "  }\n",
       "\n",
       "  function run_callbacks() {\n",
       "    try {\n",
       "      root._bokeh_onload_callbacks.forEach(function(callback) {\n",
       "        if (callback != null)\n",
       "          callback();\n",
       "      });\n",
       "    } finally {\n",
       "      delete root._bokeh_onload_callbacks;\n",
       "    }\n",
       "    console.debug(\"Bokeh: all callbacks have finished\");\n",
       "  }\n",
       "\n",
       "  function load_libs(css_urls, js_urls, js_modules, js_exports, callback) {\n",
       "    if (css_urls == null) css_urls = [];\n",
       "    if (js_urls == null) js_urls = [];\n",
       "    if (js_modules == null) js_modules = [];\n",
       "    if (js_exports == null) js_exports = {};\n",
       "\n",
       "    root._bokeh_onload_callbacks.push(callback);\n",
       "\n",
       "    if (root._bokeh_is_loading > 0) {\n",
       "      // Don't load bokeh if it is still initializing\n",
       "      console.debug(\"Bokeh: BokehJS is being loaded, scheduling callback at\", now());\n",
       "      return null;\n",
       "    } else if (js_urls.length === 0 && js_modules.length === 0 && Object.keys(js_exports).length === 0) {\n",
       "      // There is nothing to load\n",
       "      run_callbacks();\n",
       "      return null;\n",
       "    }\n",
       "\n",
       "    function on_load() {\n",
       "      root._bokeh_is_loading--;\n",
       "      if (root._bokeh_is_loading === 0) {\n",
       "        console.debug(\"Bokeh: all BokehJS libraries/stylesheets loaded\");\n",
       "        run_callbacks()\n",
       "      }\n",
       "    }\n",
       "    window._bokeh_on_load = on_load\n",
       "\n",
       "    function on_error(e) {\n",
       "      const src_el = e.srcElement\n",
       "      console.error(\"failed to load \" + (src_el.href || src_el.src));\n",
       "    }\n",
       "\n",
       "    const skip = [];\n",
       "    if (window.requirejs) {\n",
       "      window.requirejs.config({'packages': {}, 'paths': {}, 'shim': {}});\n",
       "      root._bokeh_is_loading = css_urls.length + 0;\n",
       "    } else {\n",
       "      root._bokeh_is_loading = css_urls.length + js_urls.length + js_modules.length + Object.keys(js_exports).length;\n",
       "    }\n",
       "\n",
       "    const existing_stylesheets = []\n",
       "    const links = document.getElementsByTagName('link')\n",
       "    for (let i = 0; i < links.length; i++) {\n",
       "      const link = links[i]\n",
       "      if (link.href != null) {\n",
       "        existing_stylesheets.push(link.href)\n",
       "      }\n",
       "    }\n",
       "    for (let i = 0; i < css_urls.length; i++) {\n",
       "      const url = css_urls[i];\n",
       "      const escaped = encodeURI(url)\n",
       "      if (existing_stylesheets.indexOf(escaped) !== -1) {\n",
       "        on_load()\n",
       "        continue;\n",
       "      }\n",
       "      const element = document.createElement(\"link\");\n",
       "      element.onload = on_load;\n",
       "      element.onerror = on_error;\n",
       "      element.rel = \"stylesheet\";\n",
       "      element.type = \"text/css\";\n",
       "      element.href = url;\n",
       "      console.debug(\"Bokeh: injecting link tag for BokehJS stylesheet: \", url);\n",
       "      document.body.appendChild(element);\n",
       "    }    var existing_scripts = []\n",
       "    const scripts = document.getElementsByTagName('script')\n",
       "    for (let i = 0; i < scripts.length; i++) {\n",
       "      var script = scripts[i]\n",
       "      if (script.src != null) {\n",
       "        existing_scripts.push(script.src)\n",
       "      }\n",
       "    }\n",
       "    for (let i = 0; i < js_urls.length; i++) {\n",
       "      const url = js_urls[i];\n",
       "      const escaped = encodeURI(url)\n",
       "      if (skip.indexOf(escaped) !== -1 || existing_scripts.indexOf(escaped) !== -1) {\n",
       "        if (!window.requirejs) {\n",
       "          on_load();\n",
       "        }\n",
       "        continue;\n",
       "      }\n",
       "      const element = document.createElement('script');\n",
       "      element.onload = on_load;\n",
       "      element.onerror = on_error;\n",
       "      element.async = false;\n",
       "      element.src = url;\n",
       "      console.debug(\"Bokeh: injecting script tag for BokehJS library: \", url);\n",
       "      document.head.appendChild(element);\n",
       "    }\n",
       "    for (let i = 0; i < js_modules.length; i++) {\n",
       "      const url = js_modules[i];\n",
       "      const escaped = encodeURI(url)\n",
       "      if (skip.indexOf(escaped) !== -1 || existing_scripts.indexOf(escaped) !== -1) {\n",
       "        if (!window.requirejs) {\n",
       "          on_load();\n",
       "        }\n",
       "        continue;\n",
       "      }\n",
       "      var element = document.createElement('script');\n",
       "      element.onload = on_load;\n",
       "      element.onerror = on_error;\n",
       "      element.async = false;\n",
       "      element.src = url;\n",
       "      element.type = \"module\";\n",
       "      console.debug(\"Bokeh: injecting script tag for BokehJS library: \", url);\n",
       "      document.head.appendChild(element);\n",
       "    }\n",
       "    for (const name in js_exports) {\n",
       "      const url = js_exports[name];\n",
       "      const escaped = encodeURI(url)\n",
       "      if (skip.indexOf(escaped) >= 0 || root[name] != null) {\n",
       "        if (!window.requirejs) {\n",
       "          on_load();\n",
       "        }\n",
       "        continue;\n",
       "      }\n",
       "      var element = document.createElement('script');\n",
       "      element.onerror = on_error;\n",
       "      element.async = false;\n",
       "      element.type = \"module\";\n",
       "      console.debug(\"Bokeh: injecting script tag for BokehJS library: \", url);\n",
       "      element.textContent = `\n",
       "      import ${name} from \"${url}\"\n",
       "      window.${name} = ${name}\n",
       "      window._bokeh_on_load()\n",
       "      `\n",
       "      document.head.appendChild(element);\n",
       "    }\n",
       "    if (!js_urls.length && !js_modules.length) {\n",
       "      on_load()\n",
       "    }\n",
       "  };\n",
       "\n",
       "  function inject_raw_css(css) {\n",
       "    const element = document.createElement(\"style\");\n",
       "    element.appendChild(document.createTextNode(css));\n",
       "    document.body.appendChild(element);\n",
       "  }\n",
       "\n",
       "  const js_urls = [\"https://cdn.holoviz.org/panel/1.5.0/dist/bundled/reactiveesm/es-module-shims@^1.10.0/dist/es-module-shims.min.js\", \"https://cdn.bokeh.org/bokeh/release/bokeh-3.5.2.min.js\", \"https://cdn.bokeh.org/bokeh/release/bokeh-gl-3.5.2.min.js\", \"https://cdn.bokeh.org/bokeh/release/bokeh-widgets-3.5.2.min.js\", \"https://cdn.bokeh.org/bokeh/release/bokeh-tables-3.5.2.min.js\", \"https://cdn.holoviz.org/panel/1.5.0/dist/panel.min.js\"];\n",
       "  const js_modules = [];\n",
       "  const js_exports = {};\n",
       "  const css_urls = [];\n",
       "  const inline_js = [    function(Bokeh) {\n",
       "      Bokeh.set_log_level(\"info\");\n",
       "    },\n",
       "function(Bokeh) {} // ensure no trailing comma for IE\n",
       "  ];\n",
       "\n",
       "  function run_inline_js() {\n",
       "    if ((root.Bokeh !== undefined) || (force === true)) {\n",
       "      for (let i = 0; i < inline_js.length; i++) {\n",
       "        try {\n",
       "          inline_js[i].call(root, root.Bokeh);\n",
       "        } catch(e) {\n",
       "          if (!reloading) {\n",
       "            throw e;\n",
       "          }\n",
       "        }\n",
       "      }\n",
       "      // Cache old bokeh versions\n",
       "      if (Bokeh != undefined && !reloading) {\n",
       "        var NewBokeh = root.Bokeh;\n",
       "        if (Bokeh.versions === undefined) {\n",
       "          Bokeh.versions = new Map();\n",
       "        }\n",
       "        if (NewBokeh.version !== Bokeh.version) {\n",
       "          Bokeh.versions.set(NewBokeh.version, NewBokeh)\n",
       "        }\n",
       "        root.Bokeh = Bokeh;\n",
       "      }\n",
       "    } else if (Date.now() < root._bokeh_timeout) {\n",
       "      setTimeout(run_inline_js, 100);\n",
       "    } else if (!root._bokeh_failed_load) {\n",
       "      console.log(\"Bokeh: BokehJS failed to load within specified timeout.\");\n",
       "      root._bokeh_failed_load = true;\n",
       "    }\n",
       "    root._bokeh_is_initializing = false\n",
       "  }\n",
       "\n",
       "  function load_or_wait() {\n",
       "    // Implement a backoff loop that tries to ensure we do not load multiple\n",
       "    // versions of Bokeh and its dependencies at the same time.\n",
       "    // In recent versions we use the root._bokeh_is_initializing flag\n",
       "    // to determine whether there is an ongoing attempt to initialize\n",
       "    // bokeh, however for backward compatibility we also try to ensure\n",
       "    // that we do not start loading a newer (Panel>=1.0 and Bokeh>3) version\n",
       "    // before older versions are fully initialized.\n",
       "    if (root._bokeh_is_initializing && Date.now() > root._bokeh_timeout) {\n",
       "      // If the timeout and bokeh was not successfully loaded we reset\n",
       "      // everything and try loading again\n",
       "      root._bokeh_timeout = Date.now() + 5000;\n",
       "      root._bokeh_is_initializing = false;\n",
       "      root._bokeh_onload_callbacks = undefined;\n",
       "      root._bokeh_is_loading = 0\n",
       "      console.log(\"Bokeh: BokehJS was loaded multiple times but one version failed to initialize.\");\n",
       "      load_or_wait();\n",
       "    } else if (root._bokeh_is_initializing || (typeof root._bokeh_is_initializing === \"undefined\" && root._bokeh_onload_callbacks !== undefined)) {\n",
       "      setTimeout(load_or_wait, 100);\n",
       "    } else {\n",
       "      root._bokeh_is_initializing = true\n",
       "      root._bokeh_onload_callbacks = []\n",
       "      const bokeh_loaded = root.Bokeh != null && (root.Bokeh.version === py_version || (root.Bokeh.versions !== undefined && root.Bokeh.versions.has(py_version)));\n",
       "      if (!reloading && !bokeh_loaded) {\n",
       "        if (root.Bokeh) {\n",
       "          root.Bokeh = undefined;\n",
       "        }\n",
       "        console.debug(\"Bokeh: BokehJS not loaded, scheduling load and callback at\", now());\n",
       "      }\n",
       "      load_libs(css_urls, js_urls, js_modules, js_exports, function() {\n",
       "        console.debug(\"Bokeh: BokehJS plotting callback run at\", now());\n",
       "        run_inline_js();\n",
       "      });\n",
       "    }\n",
       "  }\n",
       "  // Give older versions of the autoload script a head-start to ensure\n",
       "  // they initialize before we start loading newer version.\n",
       "  setTimeout(load_or_wait, 100)\n",
       "}(window));"
      ],
      "application/vnd.holoviews_load.v0+json": "(function(root) {\n  function now() {\n    return new Date();\n  }\n\n  const force = true;\n  const py_version = '3.5.2'.replace('rc', '-rc.').replace('.dev', '-dev.');\n  const reloading = false;\n  const Bokeh = root.Bokeh;\n\n  // Set a timeout for this load but only if we are not already initializing\n  if (typeof (root._bokeh_timeout) === \"undefined\" || (force || !root._bokeh_is_initializing)) {\n    root._bokeh_timeout = Date.now() + 5000;\n    root._bokeh_failed_load = false;\n  }\n\n  function run_callbacks() {\n    try {\n      root._bokeh_onload_callbacks.forEach(function(callback) {\n        if (callback != null)\n          callback();\n      });\n    } finally {\n      delete root._bokeh_onload_callbacks;\n    }\n    console.debug(\"Bokeh: all callbacks have finished\");\n  }\n\n  function load_libs(css_urls, js_urls, js_modules, js_exports, callback) {\n    if (css_urls == null) css_urls = [];\n    if (js_urls == null) js_urls = [];\n    if (js_modules == null) js_modules = [];\n    if (js_exports == null) js_exports = {};\n\n    root._bokeh_onload_callbacks.push(callback);\n\n    if (root._bokeh_is_loading > 0) {\n      // Don't load bokeh if it is still initializing\n      console.debug(\"Bokeh: BokehJS is being loaded, scheduling callback at\", now());\n      return null;\n    } else if (js_urls.length === 0 && js_modules.length === 0 && Object.keys(js_exports).length === 0) {\n      // There is nothing to load\n      run_callbacks();\n      return null;\n    }\n\n    function on_load() {\n      root._bokeh_is_loading--;\n      if (root._bokeh_is_loading === 0) {\n        console.debug(\"Bokeh: all BokehJS libraries/stylesheets loaded\");\n        run_callbacks()\n      }\n    }\n    window._bokeh_on_load = on_load\n\n    function on_error(e) {\n      const src_el = e.srcElement\n      console.error(\"failed to load \" + (src_el.href || src_el.src));\n    }\n\n    const skip = [];\n    if (window.requirejs) {\n      window.requirejs.config({'packages': {}, 'paths': {}, 'shim': {}});\n      root._bokeh_is_loading = css_urls.length + 0;\n    } else {\n      root._bokeh_is_loading = css_urls.length + js_urls.length + js_modules.length + Object.keys(js_exports).length;\n    }\n\n    const existing_stylesheets = []\n    const links = document.getElementsByTagName('link')\n    for (let i = 0; i < links.length; i++) {\n      const link = links[i]\n      if (link.href != null) {\n        existing_stylesheets.push(link.href)\n      }\n    }\n    for (let i = 0; i < css_urls.length; i++) {\n      const url = css_urls[i];\n      const escaped = encodeURI(url)\n      if (existing_stylesheets.indexOf(escaped) !== -1) {\n        on_load()\n        continue;\n      }\n      const element = document.createElement(\"link\");\n      element.onload = on_load;\n      element.onerror = on_error;\n      element.rel = \"stylesheet\";\n      element.type = \"text/css\";\n      element.href = url;\n      console.debug(\"Bokeh: injecting link tag for BokehJS stylesheet: \", url);\n      document.body.appendChild(element);\n    }    var existing_scripts = []\n    const scripts = document.getElementsByTagName('script')\n    for (let i = 0; i < scripts.length; i++) {\n      var script = scripts[i]\n      if (script.src != null) {\n        existing_scripts.push(script.src)\n      }\n    }\n    for (let i = 0; i < js_urls.length; i++) {\n      const url = js_urls[i];\n      const escaped = encodeURI(url)\n      if (skip.indexOf(escaped) !== -1 || existing_scripts.indexOf(escaped) !== -1) {\n        if (!window.requirejs) {\n          on_load();\n        }\n        continue;\n      }\n      const element = document.createElement('script');\n      element.onload = on_load;\n      element.onerror = on_error;\n      element.async = false;\n      element.src = url;\n      console.debug(\"Bokeh: injecting script tag for BokehJS library: \", url);\n      document.head.appendChild(element);\n    }\n    for (let i = 0; i < js_modules.length; i++) {\n      const url = js_modules[i];\n      const escaped = encodeURI(url)\n      if (skip.indexOf(escaped) !== -1 || existing_scripts.indexOf(escaped) !== -1) {\n        if (!window.requirejs) {\n          on_load();\n        }\n        continue;\n      }\n      var element = document.createElement('script');\n      element.onload = on_load;\n      element.onerror = on_error;\n      element.async = false;\n      element.src = url;\n      element.type = \"module\";\n      console.debug(\"Bokeh: injecting script tag for BokehJS library: \", url);\n      document.head.appendChild(element);\n    }\n    for (const name in js_exports) {\n      const url = js_exports[name];\n      const escaped = encodeURI(url)\n      if (skip.indexOf(escaped) >= 0 || root[name] != null) {\n        if (!window.requirejs) {\n          on_load();\n        }\n        continue;\n      }\n      var element = document.createElement('script');\n      element.onerror = on_error;\n      element.async = false;\n      element.type = \"module\";\n      console.debug(\"Bokeh: injecting script tag for BokehJS library: \", url);\n      element.textContent = `\n      import ${name} from \"${url}\"\n      window.${name} = ${name}\n      window._bokeh_on_load()\n      `\n      document.head.appendChild(element);\n    }\n    if (!js_urls.length && !js_modules.length) {\n      on_load()\n    }\n  };\n\n  function inject_raw_css(css) {\n    const element = document.createElement(\"style\");\n    element.appendChild(document.createTextNode(css));\n    document.body.appendChild(element);\n  }\n\n  const js_urls = [\"https://cdn.holoviz.org/panel/1.5.0/dist/bundled/reactiveesm/es-module-shims@^1.10.0/dist/es-module-shims.min.js\", \"https://cdn.bokeh.org/bokeh/release/bokeh-3.5.2.min.js\", \"https://cdn.bokeh.org/bokeh/release/bokeh-gl-3.5.2.min.js\", \"https://cdn.bokeh.org/bokeh/release/bokeh-widgets-3.5.2.min.js\", \"https://cdn.bokeh.org/bokeh/release/bokeh-tables-3.5.2.min.js\", \"https://cdn.holoviz.org/panel/1.5.0/dist/panel.min.js\"];\n  const js_modules = [];\n  const js_exports = {};\n  const css_urls = [];\n  const inline_js = [    function(Bokeh) {\n      Bokeh.set_log_level(\"info\");\n    },\nfunction(Bokeh) {} // ensure no trailing comma for IE\n  ];\n\n  function run_inline_js() {\n    if ((root.Bokeh !== undefined) || (force === true)) {\n      for (let i = 0; i < inline_js.length; i++) {\n        try {\n          inline_js[i].call(root, root.Bokeh);\n        } catch(e) {\n          if (!reloading) {\n            throw e;\n          }\n        }\n      }\n      // Cache old bokeh versions\n      if (Bokeh != undefined && !reloading) {\n        var NewBokeh = root.Bokeh;\n        if (Bokeh.versions === undefined) {\n          Bokeh.versions = new Map();\n        }\n        if (NewBokeh.version !== Bokeh.version) {\n          Bokeh.versions.set(NewBokeh.version, NewBokeh)\n        }\n        root.Bokeh = Bokeh;\n      }\n    } else if (Date.now() < root._bokeh_timeout) {\n      setTimeout(run_inline_js, 100);\n    } else if (!root._bokeh_failed_load) {\n      console.log(\"Bokeh: BokehJS failed to load within specified timeout.\");\n      root._bokeh_failed_load = true;\n    }\n    root._bokeh_is_initializing = false\n  }\n\n  function load_or_wait() {\n    // Implement a backoff loop that tries to ensure we do not load multiple\n    // versions of Bokeh and its dependencies at the same time.\n    // In recent versions we use the root._bokeh_is_initializing flag\n    // to determine whether there is an ongoing attempt to initialize\n    // bokeh, however for backward compatibility we also try to ensure\n    // that we do not start loading a newer (Panel>=1.0 and Bokeh>3) version\n    // before older versions are fully initialized.\n    if (root._bokeh_is_initializing && Date.now() > root._bokeh_timeout) {\n      // If the timeout and bokeh was not successfully loaded we reset\n      // everything and try loading again\n      root._bokeh_timeout = Date.now() + 5000;\n      root._bokeh_is_initializing = false;\n      root._bokeh_onload_callbacks = undefined;\n      root._bokeh_is_loading = 0\n      console.log(\"Bokeh: BokehJS was loaded multiple times but one version failed to initialize.\");\n      load_or_wait();\n    } else if (root._bokeh_is_initializing || (typeof root._bokeh_is_initializing === \"undefined\" && root._bokeh_onload_callbacks !== undefined)) {\n      setTimeout(load_or_wait, 100);\n    } else {\n      root._bokeh_is_initializing = true\n      root._bokeh_onload_callbacks = []\n      const bokeh_loaded = root.Bokeh != null && (root.Bokeh.version === py_version || (root.Bokeh.versions !== undefined && root.Bokeh.versions.has(py_version)));\n      if (!reloading && !bokeh_loaded) {\n        if (root.Bokeh) {\n          root.Bokeh = undefined;\n        }\n        console.debug(\"Bokeh: BokehJS not loaded, scheduling load and callback at\", now());\n      }\n      load_libs(css_urls, js_urls, js_modules, js_exports, function() {\n        console.debug(\"Bokeh: BokehJS plotting callback run at\", now());\n        run_inline_js();\n      });\n    }\n  }\n  // Give older versions of the autoload script a head-start to ensure\n  // they initialize before we start loading newer version.\n  setTimeout(load_or_wait, 100)\n}(window));"
     },
     "metadata": {},
     "output_type": "display_data"
    },
    {
     "data": {
      "application/javascript": [
       "\n",
       "if ((window.PyViz === undefined) || (window.PyViz instanceof HTMLElement)) {\n",
       "  window.PyViz = {comms: {}, comm_status:{}, kernels:{}, receivers: {}, plot_index: []}\n",
       "}\n",
       "\n",
       "\n",
       "    function JupyterCommManager() {\n",
       "    }\n",
       "\n",
       "    JupyterCommManager.prototype.register_target = function(plot_id, comm_id, msg_handler) {\n",
       "      if (window.comm_manager || ((window.Jupyter !== undefined) && (Jupyter.notebook.kernel != null))) {\n",
       "        var comm_manager = window.comm_manager || Jupyter.notebook.kernel.comm_manager;\n",
       "        comm_manager.register_target(comm_id, function(comm) {\n",
       "          comm.on_msg(msg_handler);\n",
       "        });\n",
       "      } else if ((plot_id in window.PyViz.kernels) && (window.PyViz.kernels[plot_id])) {\n",
       "        window.PyViz.kernels[plot_id].registerCommTarget(comm_id, function(comm) {\n",
       "          comm.onMsg = msg_handler;\n",
       "        });\n",
       "      } else if (typeof google != 'undefined' && google.colab.kernel != null) {\n",
       "        google.colab.kernel.comms.registerTarget(comm_id, (comm) => {\n",
       "          var messages = comm.messages[Symbol.asyncIterator]();\n",
       "          function processIteratorResult(result) {\n",
       "            var message = result.value;\n",
       "            console.log(message)\n",
       "            var content = {data: message.data, comm_id};\n",
       "            var buffers = []\n",
       "            for (var buffer of message.buffers || []) {\n",
       "              buffers.push(new DataView(buffer))\n",
       "            }\n",
       "            var metadata = message.metadata || {};\n",
       "            var msg = {content, buffers, metadata}\n",
       "            msg_handler(msg);\n",
       "            return messages.next().then(processIteratorResult);\n",
       "          }\n",
       "          return messages.next().then(processIteratorResult);\n",
       "        })\n",
       "      }\n",
       "    }\n",
       "\n",
       "    JupyterCommManager.prototype.get_client_comm = function(plot_id, comm_id, msg_handler) {\n",
       "      if (comm_id in window.PyViz.comms) {\n",
       "        return window.PyViz.comms[comm_id];\n",
       "      } else if (window.comm_manager || ((window.Jupyter !== undefined) && (Jupyter.notebook.kernel != null))) {\n",
       "        var comm_manager = window.comm_manager || Jupyter.notebook.kernel.comm_manager;\n",
       "        var comm = comm_manager.new_comm(comm_id, {}, {}, {}, comm_id);\n",
       "        if (msg_handler) {\n",
       "          comm.on_msg(msg_handler);\n",
       "        }\n",
       "      } else if ((plot_id in window.PyViz.kernels) && (window.PyViz.kernels[plot_id])) {\n",
       "        var comm = window.PyViz.kernels[plot_id].connectToComm(comm_id);\n",
       "        comm.open();\n",
       "        if (msg_handler) {\n",
       "          comm.onMsg = msg_handler;\n",
       "        }\n",
       "      } else if (typeof google != 'undefined' && google.colab.kernel != null) {\n",
       "        var comm_promise = google.colab.kernel.comms.open(comm_id)\n",
       "        comm_promise.then((comm) => {\n",
       "          window.PyViz.comms[comm_id] = comm;\n",
       "          if (msg_handler) {\n",
       "            var messages = comm.messages[Symbol.asyncIterator]();\n",
       "            function processIteratorResult(result) {\n",
       "              var message = result.value;\n",
       "              var content = {data: message.data};\n",
       "              var metadata = message.metadata || {comm_id};\n",
       "              var msg = {content, metadata}\n",
       "              msg_handler(msg);\n",
       "              return messages.next().then(processIteratorResult);\n",
       "            }\n",
       "            return messages.next().then(processIteratorResult);\n",
       "          }\n",
       "        }) \n",
       "        var sendClosure = (data, metadata, buffers, disposeOnDone) => {\n",
       "          return comm_promise.then((comm) => {\n",
       "            comm.send(data, metadata, buffers, disposeOnDone);\n",
       "          });\n",
       "        };\n",
       "        var comm = {\n",
       "          send: sendClosure\n",
       "        };\n",
       "      }\n",
       "      window.PyViz.comms[comm_id] = comm;\n",
       "      return comm;\n",
       "    }\n",
       "    window.PyViz.comm_manager = new JupyterCommManager();\n",
       "    \n",
       "\n",
       "\n",
       "var JS_MIME_TYPE = 'application/javascript';\n",
       "var HTML_MIME_TYPE = 'text/html';\n",
       "var EXEC_MIME_TYPE = 'application/vnd.holoviews_exec.v0+json';\n",
       "var CLASS_NAME = 'output';\n",
       "\n",
       "/**\n",
       " * Render data to the DOM node\n",
       " */\n",
       "function render(props, node) {\n",
       "  var div = document.createElement(\"div\");\n",
       "  var script = document.createElement(\"script\");\n",
       "  node.appendChild(div);\n",
       "  node.appendChild(script);\n",
       "}\n",
       "\n",
       "/**\n",
       " * Handle when a new output is added\n",
       " */\n",
       "function handle_add_output(event, handle) {\n",
       "  var output_area = handle.output_area;\n",
       "  var output = handle.output;\n",
       "  if ((output.data == undefined) || (!output.data.hasOwnProperty(EXEC_MIME_TYPE))) {\n",
       "    return\n",
       "  }\n",
       "  var id = output.metadata[EXEC_MIME_TYPE][\"id\"];\n",
       "  var toinsert = output_area.element.find(\".\" + CLASS_NAME.split(' ')[0]);\n",
       "  if (id !== undefined) {\n",
       "    var nchildren = toinsert.length;\n",
       "    var html_node = toinsert[nchildren-1].children[0];\n",
       "    html_node.innerHTML = output.data[HTML_MIME_TYPE];\n",
       "    var scripts = [];\n",
       "    var nodelist = html_node.querySelectorAll(\"script\");\n",
       "    for (var i in nodelist) {\n",
       "      if (nodelist.hasOwnProperty(i)) {\n",
       "        scripts.push(nodelist[i])\n",
       "      }\n",
       "    }\n",
       "\n",
       "    scripts.forEach( function (oldScript) {\n",
       "      var newScript = document.createElement(\"script\");\n",
       "      var attrs = [];\n",
       "      var nodemap = oldScript.attributes;\n",
       "      for (var j in nodemap) {\n",
       "        if (nodemap.hasOwnProperty(j)) {\n",
       "          attrs.push(nodemap[j])\n",
       "        }\n",
       "      }\n",
       "      attrs.forEach(function(attr) { newScript.setAttribute(attr.name, attr.value) });\n",
       "      newScript.appendChild(document.createTextNode(oldScript.innerHTML));\n",
       "      oldScript.parentNode.replaceChild(newScript, oldScript);\n",
       "    });\n",
       "    if (JS_MIME_TYPE in output.data) {\n",
       "      toinsert[nchildren-1].children[1].textContent = output.data[JS_MIME_TYPE];\n",
       "    }\n",
       "    output_area._hv_plot_id = id;\n",
       "    if ((window.Bokeh !== undefined) && (id in Bokeh.index)) {\n",
       "      window.PyViz.plot_index[id] = Bokeh.index[id];\n",
       "    } else {\n",
       "      window.PyViz.plot_index[id] = null;\n",
       "    }\n",
       "  } else if (output.metadata[EXEC_MIME_TYPE][\"server_id\"] !== undefined) {\n",
       "    var bk_div = document.createElement(\"div\");\n",
       "    bk_div.innerHTML = output.data[HTML_MIME_TYPE];\n",
       "    var script_attrs = bk_div.children[0].attributes;\n",
       "    for (var i = 0; i < script_attrs.length; i++) {\n",
       "      toinsert[toinsert.length - 1].childNodes[1].setAttribute(script_attrs[i].name, script_attrs[i].value);\n",
       "    }\n",
       "    // store reference to server id on output_area\n",
       "    output_area._bokeh_server_id = output.metadata[EXEC_MIME_TYPE][\"server_id\"];\n",
       "  }\n",
       "}\n",
       "\n",
       "/**\n",
       " * Handle when an output is cleared or removed\n",
       " */\n",
       "function handle_clear_output(event, handle) {\n",
       "  var id = handle.cell.output_area._hv_plot_id;\n",
       "  var server_id = handle.cell.output_area._bokeh_server_id;\n",
       "  if (((id === undefined) || !(id in PyViz.plot_index)) && (server_id !== undefined)) { return; }\n",
       "  var comm = window.PyViz.comm_manager.get_client_comm(\"hv-extension-comm\", \"hv-extension-comm\", function () {});\n",
       "  if (server_id !== null) {\n",
       "    comm.send({event_type: 'server_delete', 'id': server_id});\n",
       "    return;\n",
       "  } else if (comm !== null) {\n",
       "    comm.send({event_type: 'delete', 'id': id});\n",
       "  }\n",
       "  delete PyViz.plot_index[id];\n",
       "  if ((window.Bokeh !== undefined) & (id in window.Bokeh.index)) {\n",
       "    var doc = window.Bokeh.index[id].model.document\n",
       "    doc.clear();\n",
       "    const i = window.Bokeh.documents.indexOf(doc);\n",
       "    if (i > -1) {\n",
       "      window.Bokeh.documents.splice(i, 1);\n",
       "    }\n",
       "  }\n",
       "}\n",
       "\n",
       "/**\n",
       " * Handle kernel restart event\n",
       " */\n",
       "function handle_kernel_cleanup(event, handle) {\n",
       "  delete PyViz.comms[\"hv-extension-comm\"];\n",
       "  window.PyViz.plot_index = {}\n",
       "}\n",
       "\n",
       "/**\n",
       " * Handle update_display_data messages\n",
       " */\n",
       "function handle_update_output(event, handle) {\n",
       "  handle_clear_output(event, {cell: {output_area: handle.output_area}})\n",
       "  handle_add_output(event, handle)\n",
       "}\n",
       "\n",
       "function register_renderer(events, OutputArea) {\n",
       "  function append_mime(data, metadata, element) {\n",
       "    // create a DOM node to render to\n",
       "    var toinsert = this.create_output_subarea(\n",
       "    metadata,\n",
       "    CLASS_NAME,\n",
       "    EXEC_MIME_TYPE\n",
       "    );\n",
       "    this.keyboard_manager.register_events(toinsert);\n",
       "    // Render to node\n",
       "    var props = {data: data, metadata: metadata[EXEC_MIME_TYPE]};\n",
       "    render(props, toinsert[0]);\n",
       "    element.append(toinsert);\n",
       "    return toinsert\n",
       "  }\n",
       "\n",
       "  events.on('output_added.OutputArea', handle_add_output);\n",
       "  events.on('output_updated.OutputArea', handle_update_output);\n",
       "  events.on('clear_output.CodeCell', handle_clear_output);\n",
       "  events.on('delete.Cell', handle_clear_output);\n",
       "  events.on('kernel_ready.Kernel', handle_kernel_cleanup);\n",
       "\n",
       "  OutputArea.prototype.register_mime_type(EXEC_MIME_TYPE, append_mime, {\n",
       "    safe: true,\n",
       "    index: 0\n",
       "  });\n",
       "}\n",
       "\n",
       "if (window.Jupyter !== undefined) {\n",
       "  try {\n",
       "    var events = require('base/js/events');\n",
       "    var OutputArea = require('notebook/js/outputarea').OutputArea;\n",
       "    if (OutputArea.prototype.mime_types().indexOf(EXEC_MIME_TYPE) == -1) {\n",
       "      register_renderer(events, OutputArea);\n",
       "    }\n",
       "  } catch(err) {\n",
       "  }\n",
       "}\n"
      ],
      "application/vnd.holoviews_load.v0+json": "\nif ((window.PyViz === undefined) || (window.PyViz instanceof HTMLElement)) {\n  window.PyViz = {comms: {}, comm_status:{}, kernels:{}, receivers: {}, plot_index: []}\n}\n\n\n    function JupyterCommManager() {\n    }\n\n    JupyterCommManager.prototype.register_target = function(plot_id, comm_id, msg_handler) {\n      if (window.comm_manager || ((window.Jupyter !== undefined) && (Jupyter.notebook.kernel != null))) {\n        var comm_manager = window.comm_manager || Jupyter.notebook.kernel.comm_manager;\n        comm_manager.register_target(comm_id, function(comm) {\n          comm.on_msg(msg_handler);\n        });\n      } else if ((plot_id in window.PyViz.kernels) && (window.PyViz.kernels[plot_id])) {\n        window.PyViz.kernels[plot_id].registerCommTarget(comm_id, function(comm) {\n          comm.onMsg = msg_handler;\n        });\n      } else if (typeof google != 'undefined' && google.colab.kernel != null) {\n        google.colab.kernel.comms.registerTarget(comm_id, (comm) => {\n          var messages = comm.messages[Symbol.asyncIterator]();\n          function processIteratorResult(result) {\n            var message = result.value;\n            console.log(message)\n            var content = {data: message.data, comm_id};\n            var buffers = []\n            for (var buffer of message.buffers || []) {\n              buffers.push(new DataView(buffer))\n            }\n            var metadata = message.metadata || {};\n            var msg = {content, buffers, metadata}\n            msg_handler(msg);\n            return messages.next().then(processIteratorResult);\n          }\n          return messages.next().then(processIteratorResult);\n        })\n      }\n    }\n\n    JupyterCommManager.prototype.get_client_comm = function(plot_id, comm_id, msg_handler) {\n      if (comm_id in window.PyViz.comms) {\n        return window.PyViz.comms[comm_id];\n      } else if (window.comm_manager || ((window.Jupyter !== undefined) && (Jupyter.notebook.kernel != null))) {\n        var comm_manager = window.comm_manager || Jupyter.notebook.kernel.comm_manager;\n        var comm = comm_manager.new_comm(comm_id, {}, {}, {}, comm_id);\n        if (msg_handler) {\n          comm.on_msg(msg_handler);\n        }\n      } else if ((plot_id in window.PyViz.kernels) && (window.PyViz.kernels[plot_id])) {\n        var comm = window.PyViz.kernels[plot_id].connectToComm(comm_id);\n        comm.open();\n        if (msg_handler) {\n          comm.onMsg = msg_handler;\n        }\n      } else if (typeof google != 'undefined' && google.colab.kernel != null) {\n        var comm_promise = google.colab.kernel.comms.open(comm_id)\n        comm_promise.then((comm) => {\n          window.PyViz.comms[comm_id] = comm;\n          if (msg_handler) {\n            var messages = comm.messages[Symbol.asyncIterator]();\n            function processIteratorResult(result) {\n              var message = result.value;\n              var content = {data: message.data};\n              var metadata = message.metadata || {comm_id};\n              var msg = {content, metadata}\n              msg_handler(msg);\n              return messages.next().then(processIteratorResult);\n            }\n            return messages.next().then(processIteratorResult);\n          }\n        }) \n        var sendClosure = (data, metadata, buffers, disposeOnDone) => {\n          return comm_promise.then((comm) => {\n            comm.send(data, metadata, buffers, disposeOnDone);\n          });\n        };\n        var comm = {\n          send: sendClosure\n        };\n      }\n      window.PyViz.comms[comm_id] = comm;\n      return comm;\n    }\n    window.PyViz.comm_manager = new JupyterCommManager();\n    \n\n\nvar JS_MIME_TYPE = 'application/javascript';\nvar HTML_MIME_TYPE = 'text/html';\nvar EXEC_MIME_TYPE = 'application/vnd.holoviews_exec.v0+json';\nvar CLASS_NAME = 'output';\n\n/**\n * Render data to the DOM node\n */\nfunction render(props, node) {\n  var div = document.createElement(\"div\");\n  var script = document.createElement(\"script\");\n  node.appendChild(div);\n  node.appendChild(script);\n}\n\n/**\n * Handle when a new output is added\n */\nfunction handle_add_output(event, handle) {\n  var output_area = handle.output_area;\n  var output = handle.output;\n  if ((output.data == undefined) || (!output.data.hasOwnProperty(EXEC_MIME_TYPE))) {\n    return\n  }\n  var id = output.metadata[EXEC_MIME_TYPE][\"id\"];\n  var toinsert = output_area.element.find(\".\" + CLASS_NAME.split(' ')[0]);\n  if (id !== undefined) {\n    var nchildren = toinsert.length;\n    var html_node = toinsert[nchildren-1].children[0];\n    html_node.innerHTML = output.data[HTML_MIME_TYPE];\n    var scripts = [];\n    var nodelist = html_node.querySelectorAll(\"script\");\n    for (var i in nodelist) {\n      if (nodelist.hasOwnProperty(i)) {\n        scripts.push(nodelist[i])\n      }\n    }\n\n    scripts.forEach( function (oldScript) {\n      var newScript = document.createElement(\"script\");\n      var attrs = [];\n      var nodemap = oldScript.attributes;\n      for (var j in nodemap) {\n        if (nodemap.hasOwnProperty(j)) {\n          attrs.push(nodemap[j])\n        }\n      }\n      attrs.forEach(function(attr) { newScript.setAttribute(attr.name, attr.value) });\n      newScript.appendChild(document.createTextNode(oldScript.innerHTML));\n      oldScript.parentNode.replaceChild(newScript, oldScript);\n    });\n    if (JS_MIME_TYPE in output.data) {\n      toinsert[nchildren-1].children[1].textContent = output.data[JS_MIME_TYPE];\n    }\n    output_area._hv_plot_id = id;\n    if ((window.Bokeh !== undefined) && (id in Bokeh.index)) {\n      window.PyViz.plot_index[id] = Bokeh.index[id];\n    } else {\n      window.PyViz.plot_index[id] = null;\n    }\n  } else if (output.metadata[EXEC_MIME_TYPE][\"server_id\"] !== undefined) {\n    var bk_div = document.createElement(\"div\");\n    bk_div.innerHTML = output.data[HTML_MIME_TYPE];\n    var script_attrs = bk_div.children[0].attributes;\n    for (var i = 0; i < script_attrs.length; i++) {\n      toinsert[toinsert.length - 1].childNodes[1].setAttribute(script_attrs[i].name, script_attrs[i].value);\n    }\n    // store reference to server id on output_area\n    output_area._bokeh_server_id = output.metadata[EXEC_MIME_TYPE][\"server_id\"];\n  }\n}\n\n/**\n * Handle when an output is cleared or removed\n */\nfunction handle_clear_output(event, handle) {\n  var id = handle.cell.output_area._hv_plot_id;\n  var server_id = handle.cell.output_area._bokeh_server_id;\n  if (((id === undefined) || !(id in PyViz.plot_index)) && (server_id !== undefined)) { return; }\n  var comm = window.PyViz.comm_manager.get_client_comm(\"hv-extension-comm\", \"hv-extension-comm\", function () {});\n  if (server_id !== null) {\n    comm.send({event_type: 'server_delete', 'id': server_id});\n    return;\n  } else if (comm !== null) {\n    comm.send({event_type: 'delete', 'id': id});\n  }\n  delete PyViz.plot_index[id];\n  if ((window.Bokeh !== undefined) & (id in window.Bokeh.index)) {\n    var doc = window.Bokeh.index[id].model.document\n    doc.clear();\n    const i = window.Bokeh.documents.indexOf(doc);\n    if (i > -1) {\n      window.Bokeh.documents.splice(i, 1);\n    }\n  }\n}\n\n/**\n * Handle kernel restart event\n */\nfunction handle_kernel_cleanup(event, handle) {\n  delete PyViz.comms[\"hv-extension-comm\"];\n  window.PyViz.plot_index = {}\n}\n\n/**\n * Handle update_display_data messages\n */\nfunction handle_update_output(event, handle) {\n  handle_clear_output(event, {cell: {output_area: handle.output_area}})\n  handle_add_output(event, handle)\n}\n\nfunction register_renderer(events, OutputArea) {\n  function append_mime(data, metadata, element) {\n    // create a DOM node to render to\n    var toinsert = this.create_output_subarea(\n    metadata,\n    CLASS_NAME,\n    EXEC_MIME_TYPE\n    );\n    this.keyboard_manager.register_events(toinsert);\n    // Render to node\n    var props = {data: data, metadata: metadata[EXEC_MIME_TYPE]};\n    render(props, toinsert[0]);\n    element.append(toinsert);\n    return toinsert\n  }\n\n  events.on('output_added.OutputArea', handle_add_output);\n  events.on('output_updated.OutputArea', handle_update_output);\n  events.on('clear_output.CodeCell', handle_clear_output);\n  events.on('delete.Cell', handle_clear_output);\n  events.on('kernel_ready.Kernel', handle_kernel_cleanup);\n\n  OutputArea.prototype.register_mime_type(EXEC_MIME_TYPE, append_mime, {\n    safe: true,\n    index: 0\n  });\n}\n\nif (window.Jupyter !== undefined) {\n  try {\n    var events = require('base/js/events');\n    var OutputArea = require('notebook/js/outputarea').OutputArea;\n    if (OutputArea.prototype.mime_types().indexOf(EXEC_MIME_TYPE) == -1) {\n      register_renderer(events, OutputArea);\n    }\n  } catch(err) {\n  }\n}\n"
     },
     "metadata": {},
     "output_type": "display_data"
    },
    {
     "data": {
      "application/vnd.holoviews_exec.v0+json": "",
      "text/html": [
       "<div id='p1002'>\n",
       "  <div id=\"b52d9d9d-7d75-4a2f-9b16-58df9ba2c361\" data-root-id=\"p1002\" style=\"display: contents;\"></div>\n",
       "</div>\n",
       "<script type=\"application/javascript\">(function(root) {\n",
       "  var docs_json = {\"8c63920b-b786-4f03-a62d-4d2f773c89c4\":{\"version\":\"3.5.2\",\"title\":\"Bokeh Application\",\"roots\":[{\"type\":\"object\",\"name\":\"panel.models.browser.BrowserInfo\",\"id\":\"p1002\"},{\"type\":\"object\",\"name\":\"panel.models.comm_manager.CommManager\",\"id\":\"p1003\",\"attributes\":{\"plot_id\":\"p1002\",\"comm_id\":\"06adfd0ab34f4569809e785731f447d2\",\"client_comm_id\":\"3347531e5a1c40769998addd15278813\"}}],\"defs\":[{\"type\":\"model\",\"name\":\"ReactiveHTML1\"},{\"type\":\"model\",\"name\":\"FlexBox1\",\"properties\":[{\"name\":\"align_content\",\"kind\":\"Any\",\"default\":\"flex-start\"},{\"name\":\"align_items\",\"kind\":\"Any\",\"default\":\"flex-start\"},{\"name\":\"flex_direction\",\"kind\":\"Any\",\"default\":\"row\"},{\"name\":\"flex_wrap\",\"kind\":\"Any\",\"default\":\"wrap\"},{\"name\":\"gap\",\"kind\":\"Any\",\"default\":\"\"},{\"name\":\"justify_content\",\"kind\":\"Any\",\"default\":\"flex-start\"}]},{\"type\":\"model\",\"name\":\"FloatPanel1\",\"properties\":[{\"name\":\"config\",\"kind\":\"Any\",\"default\":{\"type\":\"map\"}},{\"name\":\"contained\",\"kind\":\"Any\",\"default\":true},{\"name\":\"position\",\"kind\":\"Any\",\"default\":\"right-top\"},{\"name\":\"offsetx\",\"kind\":\"Any\",\"default\":null},{\"name\":\"offsety\",\"kind\":\"Any\",\"default\":null},{\"name\":\"theme\",\"kind\":\"Any\",\"default\":\"primary\"},{\"name\":\"status\",\"kind\":\"Any\",\"default\":\"normalized\"}]},{\"type\":\"model\",\"name\":\"GridStack1\",\"properties\":[{\"name\":\"mode\",\"kind\":\"Any\",\"default\":\"warn\"},{\"name\":\"ncols\",\"kind\":\"Any\",\"default\":null},{\"name\":\"nrows\",\"kind\":\"Any\",\"default\":null},{\"name\":\"allow_resize\",\"kind\":\"Any\",\"default\":true},{\"name\":\"allow_drag\",\"kind\":\"Any\",\"default\":true},{\"name\":\"state\",\"kind\":\"Any\",\"default\":[]}]},{\"type\":\"model\",\"name\":\"drag1\",\"properties\":[{\"name\":\"slider_width\",\"kind\":\"Any\",\"default\":5},{\"name\":\"slider_color\",\"kind\":\"Any\",\"default\":\"black\"},{\"name\":\"value\",\"kind\":\"Any\",\"default\":50}]},{\"type\":\"model\",\"name\":\"click1\",\"properties\":[{\"name\":\"terminal_output\",\"kind\":\"Any\",\"default\":\"\"},{\"name\":\"debug_name\",\"kind\":\"Any\",\"default\":\"\"},{\"name\":\"clears\",\"kind\":\"Any\",\"default\":0}]},{\"type\":\"model\",\"name\":\"FastWrapper1\",\"properties\":[{\"name\":\"object\",\"kind\":\"Any\",\"default\":null},{\"name\":\"style\",\"kind\":\"Any\",\"default\":null}]},{\"type\":\"model\",\"name\":\"NotificationAreaBase1\",\"properties\":[{\"name\":\"js_events\",\"kind\":\"Any\",\"default\":{\"type\":\"map\"}},{\"name\":\"position\",\"kind\":\"Any\",\"default\":\"bottom-right\"},{\"name\":\"_clear\",\"kind\":\"Any\",\"default\":0}]},{\"type\":\"model\",\"name\":\"NotificationArea1\",\"properties\":[{\"name\":\"js_events\",\"kind\":\"Any\",\"default\":{\"type\":\"map\"}},{\"name\":\"notifications\",\"kind\":\"Any\",\"default\":[]},{\"name\":\"position\",\"kind\":\"Any\",\"default\":\"bottom-right\"},{\"name\":\"_clear\",\"kind\":\"Any\",\"default\":0},{\"name\":\"types\",\"kind\":\"Any\",\"default\":[{\"type\":\"map\",\"entries\":[[\"type\",\"warning\"],[\"background\",\"#ffc107\"],[\"icon\",{\"type\":\"map\",\"entries\":[[\"className\",\"fas fa-exclamation-triangle\"],[\"tagName\",\"i\"],[\"color\",\"white\"]]}]]},{\"type\":\"map\",\"entries\":[[\"type\",\"info\"],[\"background\",\"#007bff\"],[\"icon\",{\"type\":\"map\",\"entries\":[[\"className\",\"fas fa-info-circle\"],[\"tagName\",\"i\"],[\"color\",\"white\"]]}]]}]}]},{\"type\":\"model\",\"name\":\"Notification\",\"properties\":[{\"name\":\"background\",\"kind\":\"Any\",\"default\":null},{\"name\":\"duration\",\"kind\":\"Any\",\"default\":3000},{\"name\":\"icon\",\"kind\":\"Any\",\"default\":null},{\"name\":\"message\",\"kind\":\"Any\",\"default\":\"\"},{\"name\":\"notification_type\",\"kind\":\"Any\",\"default\":null},{\"name\":\"_destroyed\",\"kind\":\"Any\",\"default\":false}]},{\"type\":\"model\",\"name\":\"TemplateActions1\",\"properties\":[{\"name\":\"open_modal\",\"kind\":\"Any\",\"default\":0},{\"name\":\"close_modal\",\"kind\":\"Any\",\"default\":0}]},{\"type\":\"model\",\"name\":\"BootstrapTemplateActions1\",\"properties\":[{\"name\":\"open_modal\",\"kind\":\"Any\",\"default\":0},{\"name\":\"close_modal\",\"kind\":\"Any\",\"default\":0}]},{\"type\":\"model\",\"name\":\"TemplateEditor1\",\"properties\":[{\"name\":\"layout\",\"kind\":\"Any\",\"default\":[]}]},{\"type\":\"model\",\"name\":\"MaterialTemplateActions1\",\"properties\":[{\"name\":\"open_modal\",\"kind\":\"Any\",\"default\":0},{\"name\":\"close_modal\",\"kind\":\"Any\",\"default\":0}]},{\"type\":\"model\",\"name\":\"ReactiveESM1\"},{\"type\":\"model\",\"name\":\"JSComponent1\"},{\"type\":\"model\",\"name\":\"ReactComponent1\"},{\"type\":\"model\",\"name\":\"AnyWidgetComponent1\"},{\"type\":\"model\",\"name\":\"request_value1\",\"properties\":[{\"name\":\"fill\",\"kind\":\"Any\",\"default\":\"none\"},{\"name\":\"_synced\",\"kind\":\"Any\",\"default\":null},{\"name\":\"_request_sync\",\"kind\":\"Any\",\"default\":0}]}]}};\n",
       "  var render_items = [{\"docid\":\"8c63920b-b786-4f03-a62d-4d2f773c89c4\",\"roots\":{\"p1002\":\"b52d9d9d-7d75-4a2f-9b16-58df9ba2c361\"},\"root_ids\":[\"p1002\"]}];\n",
       "  var docs = Object.values(docs_json)\n",
       "  if (!docs) {\n",
       "    return\n",
       "  }\n",
       "  const py_version = docs[0].version.replace('rc', '-rc.').replace('.dev', '-dev.')\n",
       "  async function embed_document(root) {\n",
       "    var Bokeh = get_bokeh(root)\n",
       "    await Bokeh.embed.embed_items_notebook(docs_json, render_items);\n",
       "    for (const render_item of render_items) {\n",
       "      for (const root_id of render_item.root_ids) {\n",
       "\tconst id_el = document.getElementById(root_id)\n",
       "\tif (id_el.children.length && id_el.children[0].hasAttribute('data-root-id')) {\n",
       "\t  const root_el = id_el.children[0]\n",
       "\t  root_el.id = root_el.id + '-rendered'\n",
       "\t  for (const child of root_el.children) {\n",
       "            // Ensure JupyterLab does not capture keyboard shortcuts\n",
       "            // see: https://jupyterlab.readthedocs.io/en/4.1.x/extension/notebook.html#keyboard-interaction-model\n",
       "\t    child.setAttribute('data-lm-suppress-shortcuts', 'true')\n",
       "\t  }\n",
       "\t}\n",
       "      }\n",
       "    }\n",
       "  }\n",
       "  function get_bokeh(root) {\n",
       "    if (root.Bokeh === undefined) {\n",
       "      return null\n",
       "    } else if (root.Bokeh.version !== py_version) {\n",
       "      if (root.Bokeh.versions === undefined || !root.Bokeh.versions.has(py_version)) {\n",
       "\treturn null\n",
       "      }\n",
       "      return root.Bokeh.versions.get(py_version);\n",
       "    } else if (root.Bokeh.version === py_version) {\n",
       "      return root.Bokeh\n",
       "    }\n",
       "    return null\n",
       "  }\n",
       "  function is_loaded(root) {\n",
       "    var Bokeh = get_bokeh(root)\n",
       "    return (Bokeh != null && Bokeh.Panel !== undefined)\n",
       "  }\n",
       "  if (is_loaded(root)) {\n",
       "    embed_document(root);\n",
       "  } else {\n",
       "    var attempts = 0;\n",
       "    var timer = setInterval(function(root) {\n",
       "      if (is_loaded(root)) {\n",
       "        clearInterval(timer);\n",
       "        embed_document(root);\n",
       "      } else if (document.readyState == \"complete\") {\n",
       "        attempts++;\n",
       "        if (attempts > 200) {\n",
       "          clearInterval(timer);\n",
       "\t  var Bokeh = get_bokeh(root)\n",
       "\t  if (Bokeh == null || Bokeh.Panel == null) {\n",
       "            console.warn(\"Panel: ERROR: Unable to run Panel code because Bokeh or Panel library is missing\");\n",
       "\t  } else {\n",
       "\t    console.warn(\"Panel: WARNING: Attempting to render but not all required libraries could be resolved.\")\n",
       "\t    embed_document(root)\n",
       "\t  }\n",
       "        }\n",
       "      }\n",
       "    }, 25, root)\n",
       "  }\n",
       "})(window);</script>"
      ]
     },
     "metadata": {
      "application/vnd.holoviews_exec.v0+json": {
       "id": "p1002"
      }
     },
     "output_type": "display_data"
    }
   ],
   "source": [
    "#!pip install hvplot\n",
    "import hvplot.polars\n",
    "import matplotlib.pyplot as plt\n",
    "import pyarrow"
   ]
  },
  {
   "cell_type": "markdown",
   "metadata": {
    "id": "QkH7afPm3JKs"
   },
   "source": [
    "#### 7. [0.5 балла] Постройте график средних рейтингов по дням получения ответов (bar plot)."
   ]
  },
  {
   "cell_type": "code",
   "execution_count": 21,
   "metadata": {
    "id": "bQ3_dsZP3JKs",
    "scrolled": true
   },
   "outputs": [
    {
     "data": {},
     "metadata": {},
     "output_type": "display_data"
    },
    {
     "data": {
      "application/vnd.holoviews_exec.v0+json": "",
      "text/html": [
       "<div id='p1004'>\n",
       "  <div id=\"b3691c82-623d-4d7c-8a21-cbddc9a0ea77\" data-root-id=\"p1004\" style=\"display: contents;\"></div>\n",
       "</div>\n",
       "<script type=\"application/javascript\">(function(root) {\n",
       "  var docs_json = {\"77511d15-0286-4df3-87a1-128c0141062f\":{\"version\":\"3.5.2\",\"title\":\"Bokeh Application\",\"roots\":[{\"type\":\"object\",\"name\":\"Row\",\"id\":\"p1004\",\"attributes\":{\"name\":\"Row00943\",\"tags\":[\"embedded\"],\"stylesheets\":[\"\\n:host(.pn-loading):before, .pn-loading:before {\\n  background-color: #c3c3c3;\\n  mask-size: auto calc(min(50%, 400px));\\n  -webkit-mask-size: auto calc(min(50%, 400px));\\n}\",{\"type\":\"object\",\"name\":\"ImportedStyleSheet\",\"id\":\"p1007\",\"attributes\":{\"url\":\"https://cdn.holoviz.org/panel/1.5.0/dist/css/loading.css\"}},{\"type\":\"object\",\"name\":\"ImportedStyleSheet\",\"id\":\"p1065\",\"attributes\":{\"url\":\"https://cdn.holoviz.org/panel/1.5.0/dist/css/listpanel.css\"}},{\"type\":\"object\",\"name\":\"ImportedStyleSheet\",\"id\":\"p1005\",\"attributes\":{\"url\":\"https://cdn.holoviz.org/panel/1.5.0/dist/bundled/theme/default.css\"}},{\"type\":\"object\",\"name\":\"ImportedStyleSheet\",\"id\":\"p1006\",\"attributes\":{\"url\":\"https://cdn.holoviz.org/panel/1.5.0/dist/bundled/theme/native.css\"}}],\"min_width\":700,\"margin\":0,\"sizing_mode\":\"stretch_width\",\"align\":\"start\",\"children\":[{\"type\":\"object\",\"name\":\"Spacer\",\"id\":\"p1008\",\"attributes\":{\"name\":\"HSpacer00950\",\"stylesheets\":[\"\\n:host(.pn-loading):before, .pn-loading:before {\\n  background-color: #c3c3c3;\\n  mask-size: auto calc(min(50%, 400px));\\n  -webkit-mask-size: auto calc(min(50%, 400px));\\n}\",{\"id\":\"p1007\"},{\"id\":\"p1005\"},{\"id\":\"p1006\"}],\"margin\":0,\"sizing_mode\":\"stretch_width\",\"align\":\"start\"}},{\"type\":\"object\",\"name\":\"Figure\",\"id\":\"p1016\",\"attributes\":{\"width\":700,\"height\":300,\"margin\":[5,10],\"sizing_mode\":\"fixed\",\"align\":\"start\",\"x_range\":{\"type\":\"object\",\"name\":\"FactorRange\",\"id\":\"p1009\",\"attributes\":{\"tags\":[[[\"timestamp\",null]],[]],\"factors\":[\"May 14, Thursday\",\"May 15, Friday\",\"May 16, Saturday\",\"May 17, Sunday\",\"May 18, Monday\",\"May 19, Tuesday\",\"May 20, Wednesday\",\"May 21, Thursday\",\"May 23, Saturday\",\"May 24, Sunday\"]}},\"y_range\":{\"type\":\"object\",\"name\":\"Range1d\",\"id\":\"p1010\",\"attributes\":{\"tags\":[[[\"rating\",null]],{\"type\":\"map\",\"entries\":[[\"invert_yaxis\",false],[\"autorange\",false]]}],\"end\":1217.9055555555556,\"reset_start\":0.0,\"reset_end\":1217.9055555555556}},\"x_scale\":{\"type\":\"object\",\"name\":\"CategoricalScale\",\"id\":\"p1026\"},\"y_scale\":{\"type\":\"object\",\"name\":\"LinearScale\",\"id\":\"p1027\"},\"title\":{\"type\":\"object\",\"name\":\"Title\",\"id\":\"p1019\",\"attributes\":{\"text\":\"\\u0420\\u0430\\u0441\\u043f\\u0440\\u0435\\u0434\\u0435\\u043b\\u0435\\u043d\\u0438\\u0435 \\u0440\\u0435\\u0439\\u0442\\u0438\\u043d\\u0430 \\u043f\\u043e \\u0434\\u043d\\u044f\\u043c \\u043f\\u043e\\u0434\\u0430\\u0447\\u0438 \\u0437\\u0430\\u044f\\u0432\\u043a\\u0438\",\"text_color\":\"black\",\"text_font_size\":\"12pt\"}},\"renderers\":[{\"type\":\"object\",\"name\":\"GlyphRenderer\",\"id\":\"p1058\",\"attributes\":{\"data_source\":{\"type\":\"object\",\"name\":\"ColumnDataSource\",\"id\":\"p1049\",\"attributes\":{\"selected\":{\"type\":\"object\",\"name\":\"Selection\",\"id\":\"p1050\",\"attributes\":{\"indices\":[],\"line_indices\":[]}},\"selection_policy\":{\"type\":\"object\",\"name\":\"UnionRenderers\",\"id\":\"p1051\"},\"data\":{\"type\":\"map\",\"entries\":[[\"timestamp\",[\"May 14, Thursday\",\"May 15, Friday\",\"May 16, Saturday\",\"May 17, Sunday\",\"May 18, Monday\",\"May 19, Tuesday\",\"May 20, Wednesday\",\"May 21, Thursday\",\"May 23, Saturday\",\"May 24, Sunday\"]],[\"rating\",{\"type\":\"ndarray\",\"array\":{\"type\":\"bytes\",\"data\":\"chzHcRwhkkDv7u7u7n6GQDMzMzMzA4dAgynyWTeYjEBJkiRJ0tqJQJIkSZIkyYdAAAAAAACMhUAAAAAAAECCQAAAAAAA4pBAAAAAAAD0hEA=\"},\"shape\":[10],\"dtype\":\"float64\",\"order\":\"little\"}]]}}},\"view\":{\"type\":\"object\",\"name\":\"CDSView\",\"id\":\"p1059\",\"attributes\":{\"filter\":{\"type\":\"object\",\"name\":\"AllIndices\",\"id\":\"p1060\"}}},\"glyph\":{\"type\":\"object\",\"name\":\"VBar\",\"id\":\"p1055\",\"attributes\":{\"tags\":[\"apply_ranges\"],\"x\":{\"type\":\"field\",\"field\":\"timestamp\"},\"width\":{\"type\":\"value\",\"value\":0.8},\"top\":{\"type\":\"field\",\"field\":\"rating\"},\"fill_color\":{\"type\":\"value\",\"value\":\"#30a2da\"},\"hatch_color\":{\"type\":\"value\",\"value\":\"#30a2da\"}}},\"selection_glyph\":{\"type\":\"object\",\"name\":\"VBar\",\"id\":\"p1061\",\"attributes\":{\"tags\":[\"apply_ranges\"],\"x\":{\"type\":\"field\",\"field\":\"timestamp\"},\"width\":{\"type\":\"value\",\"value\":0.8},\"bottom\":{\"type\":\"value\",\"value\":0},\"top\":{\"type\":\"field\",\"field\":\"rating\"},\"line_color\":{\"type\":\"value\",\"value\":\"black\"},\"line_alpha\":{\"type\":\"value\",\"value\":1.0},\"line_width\":{\"type\":\"value\",\"value\":1},\"line_join\":{\"type\":\"value\",\"value\":\"bevel\"},\"line_cap\":{\"type\":\"value\",\"value\":\"butt\"},\"line_dash\":{\"type\":\"value\",\"value\":[]},\"line_dash_offset\":{\"type\":\"value\",\"value\":0},\"fill_color\":{\"type\":\"value\",\"value\":\"#30a2da\"},\"fill_alpha\":{\"type\":\"value\",\"value\":1.0},\"hatch_color\":{\"type\":\"value\",\"value\":\"#30a2da\"},\"hatch_alpha\":{\"type\":\"value\",\"value\":1.0},\"hatch_scale\":{\"type\":\"value\",\"value\":12.0},\"hatch_pattern\":{\"type\":\"value\",\"value\":null},\"hatch_weight\":{\"type\":\"value\",\"value\":1.0}}},\"nonselection_glyph\":{\"type\":\"object\",\"name\":\"VBar\",\"id\":\"p1056\",\"attributes\":{\"tags\":[\"apply_ranges\"],\"x\":{\"type\":\"field\",\"field\":\"timestamp\"},\"width\":{\"type\":\"value\",\"value\":0.8},\"top\":{\"type\":\"field\",\"field\":\"rating\"},\"line_alpha\":{\"type\":\"value\",\"value\":0.1},\"fill_color\":{\"type\":\"value\",\"value\":\"#30a2da\"},\"fill_alpha\":{\"type\":\"value\",\"value\":0.1},\"hatch_color\":{\"type\":\"value\",\"value\":\"#30a2da\"},\"hatch_alpha\":{\"type\":\"value\",\"value\":0.1}}},\"muted_glyph\":{\"type\":\"object\",\"name\":\"VBar\",\"id\":\"p1057\",\"attributes\":{\"tags\":[\"apply_ranges\"],\"x\":{\"type\":\"field\",\"field\":\"timestamp\"},\"width\":{\"type\":\"value\",\"value\":0.8},\"top\":{\"type\":\"field\",\"field\":\"rating\"},\"line_alpha\":{\"type\":\"value\",\"value\":0.2},\"fill_color\":{\"type\":\"value\",\"value\":\"#30a2da\"},\"fill_alpha\":{\"type\":\"value\",\"value\":0.2},\"hatch_color\":{\"type\":\"value\",\"value\":\"#30a2da\"},\"hatch_alpha\":{\"type\":\"value\",\"value\":0.2}}}}}],\"toolbar\":{\"type\":\"object\",\"name\":\"Toolbar\",\"id\":\"p1025\",\"attributes\":{\"tools\":[{\"type\":\"object\",\"name\":\"WheelZoomTool\",\"id\":\"p1014\",\"attributes\":{\"tags\":[\"hv_created\"],\"renderers\":\"auto\",\"zoom_together\":\"none\"}},{\"type\":\"object\",\"name\":\"HoverTool\",\"id\":\"p1015\",\"attributes\":{\"tags\":[\"hv_created\"],\"renderers\":[{\"id\":\"p1058\"}],\"tooltips\":[[\"timestamp\",\"@{timestamp}\"],[\"rating\",\"@{rating}\"]]}},{\"type\":\"object\",\"name\":\"SaveTool\",\"id\":\"p1038\"},{\"type\":\"object\",\"name\":\"PanTool\",\"id\":\"p1039\"},{\"type\":\"object\",\"name\":\"BoxZoomTool\",\"id\":\"p1040\",\"attributes\":{\"overlay\":{\"type\":\"object\",\"name\":\"BoxAnnotation\",\"id\":\"p1041\",\"attributes\":{\"syncable\":false,\"line_color\":\"black\",\"line_alpha\":1.0,\"line_width\":2,\"line_dash\":[4,4],\"fill_color\":\"lightgrey\",\"fill_alpha\":0.5,\"level\":\"overlay\",\"visible\":false,\"left\":{\"type\":\"number\",\"value\":\"nan\"},\"right\":{\"type\":\"number\",\"value\":\"nan\"},\"top\":{\"type\":\"number\",\"value\":\"nan\"},\"bottom\":{\"type\":\"number\",\"value\":\"nan\"},\"left_units\":\"canvas\",\"right_units\":\"canvas\",\"top_units\":\"canvas\",\"bottom_units\":\"canvas\",\"handles\":{\"type\":\"object\",\"name\":\"BoxInteractionHandles\",\"id\":\"p1047\",\"attributes\":{\"all\":{\"type\":\"object\",\"name\":\"AreaVisuals\",\"id\":\"p1046\",\"attributes\":{\"fill_color\":\"white\",\"hover_fill_color\":\"lightgray\"}}}}}}}},{\"type\":\"object\",\"name\":\"ResetTool\",\"id\":\"p1048\"}],\"active_drag\":{\"id\":\"p1039\"},\"active_scroll\":{\"id\":\"p1014\"}}},\"left\":[{\"type\":\"object\",\"name\":\"LinearAxis\",\"id\":\"p1033\",\"attributes\":{\"ticker\":{\"type\":\"object\",\"name\":\"BasicTicker\",\"id\":\"p1034\",\"attributes\":{\"mantissas\":[1,2,5]}},\"formatter\":{\"type\":\"object\",\"name\":\"BasicTickFormatter\",\"id\":\"p1035\"},\"axis_label\":\"\\u0420\\u0435\\u0439\\u0442\\u0438\\u043d\\u0433\",\"major_label_policy\":{\"type\":\"object\",\"name\":\"AllLabels\",\"id\":\"p1036\"}}}],\"below\":[{\"type\":\"object\",\"name\":\"CategoricalAxis\",\"id\":\"p1028\",\"attributes\":{\"ticker\":{\"type\":\"object\",\"name\":\"CategoricalTicker\",\"id\":\"p1029\"},\"formatter\":{\"type\":\"object\",\"name\":\"CategoricalTickFormatter\",\"id\":\"p1030\"},\"axis_label\":\"\\u0414\\u0430\\u0442\\u0430\",\"major_label_orientation\":0.7853981633974483,\"major_label_policy\":{\"type\":\"object\",\"name\":\"AllLabels\",\"id\":\"p1031\"}}}],\"center\":[{\"type\":\"object\",\"name\":\"Grid\",\"id\":\"p1032\",\"attributes\":{\"axis\":{\"id\":\"p1028\"},\"grid_line_color\":null}},{\"type\":\"object\",\"name\":\"Grid\",\"id\":\"p1037\",\"attributes\":{\"dimension\":1,\"axis\":{\"id\":\"p1033\"},\"grid_line_color\":null}}],\"min_border_top\":10,\"min_border_bottom\":10,\"min_border_left\":10,\"min_border_right\":10,\"output_backend\":\"webgl\"}},{\"type\":\"object\",\"name\":\"Spacer\",\"id\":\"p1063\",\"attributes\":{\"name\":\"HSpacer00951\",\"stylesheets\":[\"\\n:host(.pn-loading):before, .pn-loading:before {\\n  background-color: #c3c3c3;\\n  mask-size: auto calc(min(50%, 400px));\\n  -webkit-mask-size: auto calc(min(50%, 400px));\\n}\",{\"id\":\"p1007\"},{\"id\":\"p1005\"},{\"id\":\"p1006\"}],\"margin\":0,\"sizing_mode\":\"stretch_width\",\"align\":\"start\"}}]}}],\"defs\":[{\"type\":\"model\",\"name\":\"ReactiveHTML1\"},{\"type\":\"model\",\"name\":\"FlexBox1\",\"properties\":[{\"name\":\"align_content\",\"kind\":\"Any\",\"default\":\"flex-start\"},{\"name\":\"align_items\",\"kind\":\"Any\",\"default\":\"flex-start\"},{\"name\":\"flex_direction\",\"kind\":\"Any\",\"default\":\"row\"},{\"name\":\"flex_wrap\",\"kind\":\"Any\",\"default\":\"wrap\"},{\"name\":\"gap\",\"kind\":\"Any\",\"default\":\"\"},{\"name\":\"justify_content\",\"kind\":\"Any\",\"default\":\"flex-start\"}]},{\"type\":\"model\",\"name\":\"FloatPanel1\",\"properties\":[{\"name\":\"config\",\"kind\":\"Any\",\"default\":{\"type\":\"map\"}},{\"name\":\"contained\",\"kind\":\"Any\",\"default\":true},{\"name\":\"position\",\"kind\":\"Any\",\"default\":\"right-top\"},{\"name\":\"offsetx\",\"kind\":\"Any\",\"default\":null},{\"name\":\"offsety\",\"kind\":\"Any\",\"default\":null},{\"name\":\"theme\",\"kind\":\"Any\",\"default\":\"primary\"},{\"name\":\"status\",\"kind\":\"Any\",\"default\":\"normalized\"}]},{\"type\":\"model\",\"name\":\"GridStack1\",\"properties\":[{\"name\":\"mode\",\"kind\":\"Any\",\"default\":\"warn\"},{\"name\":\"ncols\",\"kind\":\"Any\",\"default\":null},{\"name\":\"nrows\",\"kind\":\"Any\",\"default\":null},{\"name\":\"allow_resize\",\"kind\":\"Any\",\"default\":true},{\"name\":\"allow_drag\",\"kind\":\"Any\",\"default\":true},{\"name\":\"state\",\"kind\":\"Any\",\"default\":[]}]},{\"type\":\"model\",\"name\":\"drag1\",\"properties\":[{\"name\":\"slider_width\",\"kind\":\"Any\",\"default\":5},{\"name\":\"slider_color\",\"kind\":\"Any\",\"default\":\"black\"},{\"name\":\"value\",\"kind\":\"Any\",\"default\":50}]},{\"type\":\"model\",\"name\":\"click1\",\"properties\":[{\"name\":\"terminal_output\",\"kind\":\"Any\",\"default\":\"\"},{\"name\":\"debug_name\",\"kind\":\"Any\",\"default\":\"\"},{\"name\":\"clears\",\"kind\":\"Any\",\"default\":0}]},{\"type\":\"model\",\"name\":\"FastWrapper1\",\"properties\":[{\"name\":\"object\",\"kind\":\"Any\",\"default\":null},{\"name\":\"style\",\"kind\":\"Any\",\"default\":null}]},{\"type\":\"model\",\"name\":\"NotificationAreaBase1\",\"properties\":[{\"name\":\"js_events\",\"kind\":\"Any\",\"default\":{\"type\":\"map\"}},{\"name\":\"position\",\"kind\":\"Any\",\"default\":\"bottom-right\"},{\"name\":\"_clear\",\"kind\":\"Any\",\"default\":0}]},{\"type\":\"model\",\"name\":\"NotificationArea1\",\"properties\":[{\"name\":\"js_events\",\"kind\":\"Any\",\"default\":{\"type\":\"map\"}},{\"name\":\"notifications\",\"kind\":\"Any\",\"default\":[]},{\"name\":\"position\",\"kind\":\"Any\",\"default\":\"bottom-right\"},{\"name\":\"_clear\",\"kind\":\"Any\",\"default\":0},{\"name\":\"types\",\"kind\":\"Any\",\"default\":[{\"type\":\"map\",\"entries\":[[\"type\",\"warning\"],[\"background\",\"#ffc107\"],[\"icon\",{\"type\":\"map\",\"entries\":[[\"className\",\"fas fa-exclamation-triangle\"],[\"tagName\",\"i\"],[\"color\",\"white\"]]}]]},{\"type\":\"map\",\"entries\":[[\"type\",\"info\"],[\"background\",\"#007bff\"],[\"icon\",{\"type\":\"map\",\"entries\":[[\"className\",\"fas fa-info-circle\"],[\"tagName\",\"i\"],[\"color\",\"white\"]]}]]}]}]},{\"type\":\"model\",\"name\":\"Notification\",\"properties\":[{\"name\":\"background\",\"kind\":\"Any\",\"default\":null},{\"name\":\"duration\",\"kind\":\"Any\",\"default\":3000},{\"name\":\"icon\",\"kind\":\"Any\",\"default\":null},{\"name\":\"message\",\"kind\":\"Any\",\"default\":\"\"},{\"name\":\"notification_type\",\"kind\":\"Any\",\"default\":null},{\"name\":\"_destroyed\",\"kind\":\"Any\",\"default\":false}]},{\"type\":\"model\",\"name\":\"TemplateActions1\",\"properties\":[{\"name\":\"open_modal\",\"kind\":\"Any\",\"default\":0},{\"name\":\"close_modal\",\"kind\":\"Any\",\"default\":0}]},{\"type\":\"model\",\"name\":\"BootstrapTemplateActions1\",\"properties\":[{\"name\":\"open_modal\",\"kind\":\"Any\",\"default\":0},{\"name\":\"close_modal\",\"kind\":\"Any\",\"default\":0}]},{\"type\":\"model\",\"name\":\"TemplateEditor1\",\"properties\":[{\"name\":\"layout\",\"kind\":\"Any\",\"default\":[]}]},{\"type\":\"model\",\"name\":\"MaterialTemplateActions1\",\"properties\":[{\"name\":\"open_modal\",\"kind\":\"Any\",\"default\":0},{\"name\":\"close_modal\",\"kind\":\"Any\",\"default\":0}]},{\"type\":\"model\",\"name\":\"ReactiveESM1\"},{\"type\":\"model\",\"name\":\"JSComponent1\"},{\"type\":\"model\",\"name\":\"ReactComponent1\"},{\"type\":\"model\",\"name\":\"AnyWidgetComponent1\"},{\"type\":\"model\",\"name\":\"request_value1\",\"properties\":[{\"name\":\"fill\",\"kind\":\"Any\",\"default\":\"none\"},{\"name\":\"_synced\",\"kind\":\"Any\",\"default\":null},{\"name\":\"_request_sync\",\"kind\":\"Any\",\"default\":0}]}]}};\n",
       "  var render_items = [{\"docid\":\"77511d15-0286-4df3-87a1-128c0141062f\",\"roots\":{\"p1004\":\"b3691c82-623d-4d7c-8a21-cbddc9a0ea77\"},\"root_ids\":[\"p1004\"]}];\n",
       "  var docs = Object.values(docs_json)\n",
       "  if (!docs) {\n",
       "    return\n",
       "  }\n",
       "  const py_version = docs[0].version.replace('rc', '-rc.').replace('.dev', '-dev.')\n",
       "  async function embed_document(root) {\n",
       "    var Bokeh = get_bokeh(root)\n",
       "    await Bokeh.embed.embed_items_notebook(docs_json, render_items);\n",
       "    for (const render_item of render_items) {\n",
       "      for (const root_id of render_item.root_ids) {\n",
       "\tconst id_el = document.getElementById(root_id)\n",
       "\tif (id_el.children.length && id_el.children[0].hasAttribute('data-root-id')) {\n",
       "\t  const root_el = id_el.children[0]\n",
       "\t  root_el.id = root_el.id + '-rendered'\n",
       "\t  for (const child of root_el.children) {\n",
       "            // Ensure JupyterLab does not capture keyboard shortcuts\n",
       "            // see: https://jupyterlab.readthedocs.io/en/4.1.x/extension/notebook.html#keyboard-interaction-model\n",
       "\t    child.setAttribute('data-lm-suppress-shortcuts', 'true')\n",
       "\t  }\n",
       "\t}\n",
       "      }\n",
       "    }\n",
       "  }\n",
       "  function get_bokeh(root) {\n",
       "    if (root.Bokeh === undefined) {\n",
       "      return null\n",
       "    } else if (root.Bokeh.version !== py_version) {\n",
       "      if (root.Bokeh.versions === undefined || !root.Bokeh.versions.has(py_version)) {\n",
       "\treturn null\n",
       "      }\n",
       "      return root.Bokeh.versions.get(py_version);\n",
       "    } else if (root.Bokeh.version === py_version) {\n",
       "      return root.Bokeh\n",
       "    }\n",
       "    return null\n",
       "  }\n",
       "  function is_loaded(root) {\n",
       "    var Bokeh = get_bokeh(root)\n",
       "    return (Bokeh != null && Bokeh.Panel !== undefined)\n",
       "  }\n",
       "  if (is_loaded(root)) {\n",
       "    embed_document(root);\n",
       "  } else {\n",
       "    var attempts = 0;\n",
       "    var timer = setInterval(function(root) {\n",
       "      if (is_loaded(root)) {\n",
       "        clearInterval(timer);\n",
       "        embed_document(root);\n",
       "      } else if (document.readyState == \"complete\") {\n",
       "        attempts++;\n",
       "        if (attempts > 200) {\n",
       "          clearInterval(timer);\n",
       "\t  var Bokeh = get_bokeh(root)\n",
       "\t  if (Bokeh == null || Bokeh.Panel == null) {\n",
       "            console.warn(\"Panel: ERROR: Unable to run Panel code because Bokeh or Panel library is missing\");\n",
       "\t  } else {\n",
       "\t    console.warn(\"Panel: WARNING: Attempting to render but not all required libraries could be resolved.\")\n",
       "\t    embed_document(root)\n",
       "\t  }\n",
       "        }\n",
       "      }\n",
       "    }, 25, root)\n",
       "  }\n",
       "})(window);</script>"
      ],
      "text/plain": [
       ":Bars   [timestamp]   (rating)"
      ]
     },
     "execution_count": 21,
     "metadata": {
      "application/vnd.holoviews_exec.v0+json": {
       "id": "p1004"
      }
     },
     "output_type": "execute_result"
    }
   ],
   "source": [
    "df_bar = df.group_by(pl.col(\"timestamp\").str.to_date(\"%F %T\").dt.strftime(\"%B %d, %A\")).agg(pl.col(\"rating\").mean())\n",
    "df_bar = df_bar.sort(by=\"timestamp\")\n",
    "\n",
    "bar = df_bar.collect().hvplot.bar(\n",
    "    x=\"timestamp\",\n",
    "    y=\"rating\",\n",
    "    title=\"Распределение рейтина по дням подачи заявки\",\n",
    "    ylabel=\"Рейтинг\",\n",
    "    xlabel=\"Дата\",\n",
    "    rot=45\n",
    ")\n",
    "\n",
    "bar"
   ]
  },
  {
   "cell_type": "markdown",
   "metadata": {
    "id": "bZB_kTE63JKs"
   },
   "source": [
    "Сохраните график в формате pdf (так он останется векторизованным) или html (тогда останется интерактивным)"
   ]
  },
  {
   "cell_type": "code",
   "execution_count": 25,
   "metadata": {
    "id": "35bHvSsV3JKt"
   },
   "outputs": [],
   "source": [
    "hvplot.save(bar, \"Rating_by_date.html\")"
   ]
  },
  {
   "cell_type": "markdown",
   "metadata": {
    "id": "EvWtDBRp3JKt"
   },
   "source": [
    "### 2. Распределение студентов по курсам."
   ]
  },
  {
   "cell_type": "markdown",
   "metadata": {
    "id": "zTPksBGL3JKt"
   },
   "source": [
    "<span style=\"color:red\">!!!ВНИМАТЕЛЬНО ИЗУЧИТЕ ТЕКСТ НИЖЕ!!!</span>.\n",
    "\n",
    "<span style=\"color:orange\">Если во время выполнения заданий у вас вознинут вопросы -- еще раз перечитайте текст целиком, скорее всего ответы уже содержатся в нем.</span>\n",
    "\n",
    "Теперь вам нужно распределить студентов по осенним курсам по выбору, учитывая их предпочтения."
   ]
  },
  {
   "cell_type": "markdown",
   "metadata": {
    "id": "S5lk67UA3JKt"
   },
   "source": [
    "## 📌 **Алгоритм распределения студентов по курсам**:\n",
    "1. По умолчанию на каждой дисциплине по выбору у 3 и 4 курсов может учиться 1 группа (до 30 студентов). Исключения описаны ниже. На blended-дисциплинах для четверокурсников количество мест не ограничено.\n",
    "2. Проводится первая волна отбора. Для каждой дисциплины формируется список тех, кто указал её первым приоритетом (если студент должен выбрать два курса по выбору, то для него дисциплины, которые он указал первым и вторым приоритетом, рассматриваются как дисциплины первого приоритета). Если желающих больше, чем мест, то выбирается топ по перцентилю рейтинга.\n",
    "3. На дисциплинах, где остались места после первой волны, формируются списки тех, кто выбрал их вторым приоритетом, и места заполняются лучшими по перцентили рейтинга студентами. После этого проводится такая же процедура для дисциплин третьего приоритета.\n",
    "4. Если студент не попал на необходимое количество курсов по итогам трёх волн, с ним связывается учебный офис и решает вопрос в индивидуальном порядке."
   ]
  },
  {
   "cell_type": "markdown",
   "metadata": {
    "id": "Ux4yMPan3JKu"
   },
   "source": [
    "## ☝️ **Обращаем ваше внимание на следующие детали:**\n",
    "\n",
    "- Конкурс на каждый курс общий для 3-го и 4-го курса\n",
    "\n",
    "- По умолчанию студент выбирает один осенний и один весенний курс по выбору, а также четверокурсники выбирают один blended-курс. Студенты групп 17-го года специализаций МОП и ТИ выбирают по 2 осенних и 2 весенних курса по выбору, также студенты групп 18' специализации МИ выбирают 2 осенних курса. <i>Для студентов, которые выбирают 2 курса (например, осенних) первый приоритет — <code>fall_1</code> и <code>fall_2</code>, второй приоритет — <code>fall_3</code>. Такие студенты участвуют только в двух волнах отбора</i>.\n",
    "\n",
    "- Студенты специализации МОП не могут выбрать весенним курсом по выбору Машинное обучение 2. **Если студент специализации МОП выбрал Машинное обучение 2, то его приоритеты сдвигаются.** Из-за совпадений первого и второго курса по выбору двигать приоритеты не надо.\n",
    "\n",
    "- Blended-курсы не трогайте, по ним не надо распределять, на другие курсы они никак не влияют.\n",
    "\n",
    "- Заведомо известно, что в процессе распределения не возникнет ситуации, когда на одно место претендуют студенты с одинаковым перцентилем.\n",
    "\n",
    "- Постарайтесь воздержаться от использования циклов там, где это возможно. <i>Допустимо итерироваться по <b>курсам</b>, на которые проводится отбор, и по <b>волнам</b> отбора. Если вы придумаете, как обойтись и без этих циклов, то на усмотрение проверяющего могут быть добавлены бонусные баллы. <b>Дублирование кода не признается успешным избавлением от циклов</b></i>\n",
    "\n",
    "- На выходе ожидается файл res_fall.csv с результатами распределения на осенние курсы по выбору. Файл должен быть следующего формата:\n",
    "\n",
    "    * три столбца: ID, course1, course2\n",
    "    \n",
    "    * Если студент не попал на курс, но должен был, то вместо названия курса в ячейке должна быть строка \"???\"\n",
    "    \n",
    "    * Если студент должен выбрать только один курс, то в колонке course2 для него должна стоять строка \"-\"\n",
    "\n",
    "    * Если студент должен выбрать два курса по выбору, то порядок в колонках course1 и course2 не важен.\n",
    "    \n",
    "    * Формат csv: для сохранения воспользуйтесь `df.write_csv('solution.csv')`"
   ]
  },
  {
   "cell_type": "markdown",
   "metadata": {
    "id": "q4b6w14cS_rW"
   },
   "source": [
    "Для работы вам могут понадобиться следующие данные:\n",
    "\n",
    "- Результаты опроса (вы уже использовали этот файл в первой части задания, но на всякий случай ссылка: https://www.dropbox.com/s/f4rm8sjc3v99p0m/_end_seminar.xlsx?dl=0)\n",
    "\n",
    "- Соответствие номеров групп специализациям:\n",
    "\n",
    "    * 171, 172 - МОП; 173 - ТИ; 174 — АДИС; 175, 176 — РС; 177 — АПР\n",
    "    \n",
    "    * У студентов 18-го года номера групп соответствуют номерам до распределения по специализациям. Это означает, что по номеру группы 18* нельзя однозначно определить специализацию студента. При этом в рамках распределения важно знать информацию только о двух из них: МОП и МИ. Эти знание можно получить из колонок 'is_ml_student ' и 'is_mi' соответственно.\n",
    "\n",
    "- Ограничения по количеству мест на курсах по выбору:\n",
    "\n",
    "    * Осенние: везде 30 мест, кроме Statistical Learning Theory (60 мест), Высокопроизводительных вычислений (60 мест), Анализа неструктурированных данных ($\\infty$ мест)\n",
    "\n",
    "    * Весенние: везде 30 мест, кроме Обучения с подкреплением (60 мест), Анализа данных в бизнесе (60 мест).\n",
    "\n",
    "\n",
    "Кстати, убедитесь, что в данных больше нет пропусков и повторных записей и сериализуйте датафрейм"
   ]
  },
  {
   "cell_type": "markdown",
   "metadata": {
    "id": "vOVE6Do13JKu"
   },
   "source": [
    "#### 0. Проверка\n",
    "\n",
    "Для начала давайте убедимся, что вы успешно выполнили задания первой части и проверим ваши данные на наличие пропусков и повторов:"
   ]
  },
  {
   "cell_type": "code",
   "execution_count": 9,
   "metadata": {
    "id": "tNeCa71zHEe8"
   },
   "outputs": [],
   "source": [
    "df = df.collect(streaming=True)\n",
    "\n",
    "assert df.shape[0] == 347, \"В таблице остались повторы или потеряны данные\"\n",
    "assert df.null_count().sum_horizontal().item() == 0, \"В таблице остались пропуски\""
   ]
  },
  {
   "cell_type": "markdown",
   "metadata": {
    "id": "H7qZDN0y3JKu"
   },
   "source": [
    "Если вы не получили AssertionError, то можете продолжать."
   ]
  },
  {
   "cell_type": "markdown",
   "metadata": {
    "id": "y81hqcoZ3JKu"
   },
   "source": [
    "#### 1. [1 балл] Создайте новый признак, обозначающий, сколько осенних курсов должен выбрать студент\n",
    "\n",
    "В этом вам может помочь информация о специализации и группе студента."
   ]
  },
  {
   "cell_type": "code",
   "execution_count": 10,
   "metadata": {
    "id": "ThOnhPTs3JKv"
   },
   "outputs": [],
   "source": [
    "df = df.with_columns(\n",
    "    pl.when(\n",
    "        (pl.col(\"17_group\").is_in([\"171\", \"172\", \"173\"])) |\n",
    "        (pl.col(\"is_mi\") == 1)\n",
    "    ).then(2).otherwise(1).alias(\"fall_number\")\n",
    ")"
   ]
  },
  {
   "cell_type": "code",
   "execution_count": 11,
   "metadata": {},
   "outputs": [],
   "source": [
    "df_reserve = df.clone()"
   ]
  },
  {
   "cell_type": "code",
   "execution_count": 12,
   "metadata": {},
   "outputs": [],
   "source": [
    "df = df_reserve.clone()"
   ]
  },
  {
   "cell_type": "markdown",
   "metadata": {
    "id": "hapnRDPU3JKv"
   },
   "source": [
    "Проверка:"
   ]
  },
  {
   "cell_type": "code",
   "execution_count": 13,
   "metadata": {
    "id": "3qK9-jmP3JKv"
   },
   "outputs": [],
   "source": [
    "col_name = \"fall_number\"\n",
    "\n",
    "ids = [\n",
    "    \"2662600c2c37e11e62f6ee0b88452f22\",\n",
    "    \"d555d2805e1d93d4f023e57dc4c8f403\",\n",
    "    \"8fe79f84f36e3a5d2d6745621321302c\",\n",
    "    \"e4caca755ee0bdd711e18fb8084958b5\",\n",
    "]\n",
    "assert (\n",
    "    df.filter(pl.col(\"id\").is_in(ids)).sort(\"id\")[col_name] == [2, 1, 2, 1]\n",
    ").all()"
   ]
  },
  {
   "cell_type": "markdown",
   "metadata": {
    "id": "kty-lzOJ3JKv"
   },
   "source": [
    "#### 2. [2 балла] Распределите студентов в соответствии с первым приоритетом"
   ]
  },
  {
   "cell_type": "code",
   "execution_count": 14,
   "metadata": {
    "id": "l5149AYH3JKv"
   },
   "outputs": [
    {
     "data": {
      "text/html": [
       "<div><style>\n",
       ".dataframe > thead > tr,\n",
       ".dataframe > tbody > tr {\n",
       "  text-align: right;\n",
       "  white-space: pre-wrap;\n",
       "}\n",
       "</style>\n",
       "<small>shape: (347, 18)</small><table border=\"1\" class=\"dataframe\"><thead><tr><th>timestamp</th><th>id</th><th>rating</th><th>18_group</th><th>is_mi</th><th>fall_1</th><th>fall_2</th><th>fall_3</th><th>spring_1</th><th>spring_2</th><th>spring_3</th><th>is_first_time</th><th>percentile</th><th>17_group</th><th>blended</th><th>is_ml_student</th><th>fall_number</th><th>fall_taken</th></tr><tr><td>str</td><td>str</td><td>i64</td><td>i64</td><td>i64</td><td>str</td><td>str</td><td>str</td><td>str</td><td>str</td><td>str</td><td>str</td><td>f64</td><td>str</td><td>str</td><td>bool</td><td>i32</td><td>u32</td></tr></thead><tbody><tr><td>&quot;2020-05-18 20:54:39&quot;</td><td>&quot;83981d0841bbb56201e68b2cba8dd8…</td><td>1191</td><td>0</td><td>0</td><td>&quot;Высокопроизводительные вычисле…</td><td>&quot;Глубинное обучение в обработке…</td><td>&quot;Сбор и обработка данных с помо…</td><td>&quot;Методы сжатия и передачи медиа…</td><td>&quot;Проектирование и разработка вы…</td><td>&quot;Конфликты и кооперация&quot;</td><td>&quot;Да&quot;</td><td>0.376812</td><td>&quot;175&quot;</td><td>&quot;Соревновательный анализ данных&quot;</td><td>false</td><td>1</td><td>1</td></tr><tr><td>&quot;2020-05-14 21:52:43&quot;</td><td>&quot;3a7326c9e355a67d3805824ca34c4b…</td><td>1457</td><td>0</td><td>0</td><td>&quot;Statistical Learning Theory&quot;</td><td>&quot;Высокопроизводительные вычисле…</td><td>&quot;Statistical Learning Theory&quot;</td><td>&quot;Символьные вычисления&quot;</td><td>&quot;Численные методы&quot;</td><td>&quot;Символьные вычисления&quot;</td><td>&quot;Да&quot;</td><td>0.0</td><td>&quot;173&quot;</td><td>&quot;Введение в дифференциальную ге…</td><td>false</td><td>2</td><td>2</td></tr><tr><td>&quot;2020-05-18 00:28:59&quot;</td><td>&quot;c84186d57fd935e228cdeddb0ce0bf…</td><td>722</td><td>188</td><td>0</td><td>&quot;Безопасность компьютерных сист…</td><td>&quot;Сбор и обработка данных с помо…</td><td>&quot;Моделирование временных рядов&quot;</td><td>&quot;Машинное обучение 2&quot;</td><td>&quot;Дискретная оптимизация&quot;</td><td>&quot;Промышленное программирование …</td><td>&quot;Да&quot;</td><td>0.112108</td><td>&quot;&quot;</td><td>&quot;&quot;</td><td>false</td><td>1</td><td>1</td></tr><tr><td>&quot;2020-05-17 17:40:31&quot;</td><td>&quot;323f162a5cad5f11e84bf294dd7319…</td><td>605</td><td>188</td><td>0</td><td>&quot;Безопасность компьютерных сист…</td><td>&quot;Сбор и обработка данных с помо…</td><td>&quot;Язык SQL&quot;</td><td>&quot;Машинное обучение 2&quot;</td><td>&quot;Анализ данных в бизнесе&quot;</td><td>&quot;Компьютерные сети&quot;</td><td>&quot;Да&quot;</td><td>0.627803</td><td>&quot;&quot;</td><td>&quot;&quot;</td><td>false</td><td>1</td><td>0</td></tr><tr><td>&quot;2020-05-16 19:23:31&quot;</td><td>&quot;c7f347b466ff14ec85103f61c4d6ff…</td><td>640</td><td>187</td><td>0</td><td>&quot;Язык SQL&quot;</td><td>&quot;Безопасность компьютерных сист…</td><td>&quot;Теория баз данных&quot;</td><td>&quot;Машинное обучение 2&quot;</td><td>&quot;Машинное обучение 2&quot;</td><td>&quot;Промышленное программирование …</td><td>&quot;Да&quot;</td><td>0.457399</td><td>&quot;&quot;</td><td>&quot;&quot;</td><td>false</td><td>1</td><td>1</td></tr><tr><td>&hellip;</td><td>&hellip;</td><td>&hellip;</td><td>&hellip;</td><td>&hellip;</td><td>&hellip;</td><td>&hellip;</td><td>&hellip;</td><td>&hellip;</td><td>&hellip;</td><td>&hellip;</td><td>&hellip;</td><td>&hellip;</td><td>&hellip;</td><td>&hellip;</td><td>&hellip;</td><td>&hellip;</td><td>&hellip;</td></tr><tr><td>&quot;2020-05-18 22:51:34&quot;</td><td>&quot;8aa0f1b7331b49464174b02cd693be…</td><td>567</td><td>187</td><td>0</td><td>&quot;Безопасность компьютерных сист…</td><td>&quot;Язык SQL&quot;</td><td>&quot;Теория баз данных&quot;</td><td>&quot;Компьютерные сети&quot;</td><td>&quot;Промышленное программирование …</td><td>&quot;Системы баз данных&quot;</td><td>&quot;Нет&quot;</td><td>0.795964</td><td>&quot;&quot;</td><td>&quot;&quot;</td><td>false</td><td>1</td><td>0</td></tr><tr><td>&quot;2020-05-21 16:33:15&quot;</td><td>&quot;1341f488fae5f1ccf164960fd6506c…</td><td>584</td><td>188</td><td>0</td><td>&quot;Язык SQL&quot;</td><td>&quot;Теория баз данных&quot;</td><td>&quot;Безопасность компьютерных сист…</td><td>&quot;Промышленное программирование …</td><td>&quot;Компьютерные сети&quot;</td><td>&quot;Системы баз данных&quot;</td><td>&quot;Да&quot;</td><td>0.721973</td><td>&quot;&quot;</td><td>&quot;&quot;</td><td>false</td><td>1</td><td>1</td></tr><tr><td>&quot;2020-05-18 23:31:33&quot;</td><td>&quot;7e844607673355cefa63252f558b69…</td><td>674</td><td>181</td><td>0</td><td>&quot;Безопасность компьютерных сист…</td><td>&quot;Высокопроизводительные вычисле…</td><td>&quot;Теория баз данных&quot;</td><td>&quot;Компьютерные сети&quot;</td><td>&quot;Системы баз данных&quot;</td><td>&quot;Промышленное программирование …</td><td>&quot;Да&quot;</td><td>0.295964</td><td>&quot;&quot;</td><td>&quot;&quot;</td><td>true</td><td>1</td><td>0</td></tr><tr><td>&quot;2020-05-18 17:21:14&quot;</td><td>&quot;7f9d0f835bf734ccd4619041c3475c…</td><td>689</td><td>182</td><td>0</td><td>&quot;Безопасность компьютерных сист…</td><td>&quot;Statistical Learning Theory&quot;</td><td>&quot;Матричные вычисления&quot;</td><td>&quot;Дискретная оптимизация&quot;</td><td>&quot;Дополнительные главы прикладно…</td><td>&quot;Промышленное программирование …</td><td>&quot;Нет&quot;</td><td>0.2287</td><td>&quot;&quot;</td><td>&quot;&quot;</td><td>true</td><td>1</td><td>0</td></tr><tr><td>&quot;2020-05-18 20:50:49&quot;</td><td>&quot;5a6dfaade650ca8bb2d081342df303…</td><td>549</td><td>185</td><td>0</td><td>&quot;Безопасность компьютерных сист…</td><td>&quot;Язык SQL&quot;</td><td>&quot;Матричные вычисления&quot;</td><td>&quot;Промышленное программирование …</td><td>&quot;Дополнительные главы прикладно…</td><td>&quot;Машинное обучение 2&quot;</td><td>&quot;Нет&quot;</td><td>0.869955</td><td>&quot;&quot;</td><td>&quot;&quot;</td><td>false</td><td>1</td><td>0</td></tr></tbody></table></div>"
      ],
      "text/plain": [
       "shape: (347, 18)\n",
       "┌────────────┬───────────────────┬────────┬──────────┬───┬──────────────────┬───────────────┬─────────────┬────────────┐\n",
       "│ timestamp  ┆ id                ┆ rating ┆ 18_group ┆ … ┆ blended          ┆ is_ml_student ┆ fall_number ┆ fall_taken │\n",
       "│ ---        ┆ ---               ┆ ---    ┆ ---      ┆   ┆ ---              ┆ ---           ┆ ---         ┆ ---        │\n",
       "│ str        ┆ str               ┆ i64    ┆ i64      ┆   ┆ str              ┆ bool          ┆ i32         ┆ u32        │\n",
       "╞════════════╪═══════════════════╪════════╪══════════╪═══╪══════════════════╪═══════════════╪═════════════╪════════════╡\n",
       "│ 2020-05-18 ┆ 83981d0841bbb5620 ┆ 1191   ┆ 0        ┆ … ┆ Соревновательный ┆ false         ┆ 1           ┆ 1          │\n",
       "│ 20:54:39   ┆ 1e68b2cba8dd8…    ┆        ┆          ┆   ┆ анализ данных    ┆               ┆             ┆            │\n",
       "│ 2020-05-14 ┆ 3a7326c9e355a67d3 ┆ 1457   ┆ 0        ┆ … ┆ Введение в       ┆ false         ┆ 2           ┆ 2          │\n",
       "│ 21:52:43   ┆ 805824ca34c4b…    ┆        ┆          ┆   ┆ дифференциальную ┆               ┆             ┆            │\n",
       "│            ┆                   ┆        ┆          ┆   ┆ ге…              ┆               ┆             ┆            │\n",
       "│ 2020-05-18 ┆ c84186d57fd935e22 ┆ 722    ┆ 188      ┆ … ┆                  ┆ false         ┆ 1           ┆ 1          │\n",
       "│ 00:28:59   ┆ 8cdeddb0ce0bf…    ┆        ┆          ┆   ┆                  ┆               ┆             ┆            │\n",
       "│ 2020-05-17 ┆ 323f162a5cad5f11e ┆ 605    ┆ 188      ┆ … ┆                  ┆ false         ┆ 1           ┆ 0          │\n",
       "│ 17:40:31   ┆ 84bf294dd7319…    ┆        ┆          ┆   ┆                  ┆               ┆             ┆            │\n",
       "│ 2020-05-16 ┆ c7f347b466ff14ec8 ┆ 640    ┆ 187      ┆ … ┆                  ┆ false         ┆ 1           ┆ 1          │\n",
       "│ 19:23:31   ┆ 5103f61c4d6ff…    ┆        ┆          ┆   ┆                  ┆               ┆             ┆            │\n",
       "│ …          ┆ …                 ┆ …      ┆ …        ┆ … ┆ …                ┆ …             ┆ …           ┆ …          │\n",
       "│ 2020-05-18 ┆ 8aa0f1b7331b49464 ┆ 567    ┆ 187      ┆ … ┆                  ┆ false         ┆ 1           ┆ 0          │\n",
       "│ 22:51:34   ┆ 174b02cd693be…    ┆        ┆          ┆   ┆                  ┆               ┆             ┆            │\n",
       "│ 2020-05-21 ┆ 1341f488fae5f1ccf ┆ 584    ┆ 188      ┆ … ┆                  ┆ false         ┆ 1           ┆ 1          │\n",
       "│ 16:33:15   ┆ 164960fd6506c…    ┆        ┆          ┆   ┆                  ┆               ┆             ┆            │\n",
       "│ 2020-05-18 ┆ 7e844607673355cef ┆ 674    ┆ 181      ┆ … ┆                  ┆ true          ┆ 1           ┆ 0          │\n",
       "│ 23:31:33   ┆ a63252f558b69…    ┆        ┆          ┆   ┆                  ┆               ┆             ┆            │\n",
       "│ 2020-05-18 ┆ 7f9d0f835bf734ccd ┆ 689    ┆ 182      ┆ … ┆                  ┆ true          ┆ 1           ┆ 0          │\n",
       "│ 17:21:14   ┆ 4619041c3475c…    ┆        ┆          ┆   ┆                  ┆               ┆             ┆            │\n",
       "│ 2020-05-18 ┆ 5a6dfaade650ca8bb ┆ 549    ┆ 185      ┆ … ┆                  ┆ false         ┆ 1           ┆ 0          │\n",
       "│ 20:50:49   ┆ 2d081342df303…    ┆        ┆          ┆   ┆                  ┆               ┆             ┆            │\n",
       "└────────────┴───────────────────┴────────┴──────────┴───┴──────────────────┴───────────────┴─────────────┴────────────┘"
      ]
     },
     "execution_count": 14,
     "metadata": {},
     "output_type": "execute_result"
    }
   ],
   "source": [
    "# (￣^￣)ゞ\n",
    "\n",
    "fall_courses_places = {\n",
    "    \"Statistical Learning Theory\": 60,\n",
    "    \"Высокопроизводительные вычисления\": 60,\n",
    "    \"Анализ неструктурированных данных\": 1000\n",
    "    # иначе: 30\n",
    "}\n",
    "\n",
    "res_fall = pl.DataFrame({\"id\": [], \"course_1\": [], \"course_2\": [], \"course_3\": []}, \n",
    "                        schema={\"id\": str, \"course_1\": str, \"course_2\": str, \"course_3\": str})\n",
    "df = df.with_columns(fall_taken=0)\n",
    "\n",
    "#print(df)\n",
    "\n",
    "fall = df.with_columns(fall_courses=pl.concat_list(\"fall_1\", \"fall_2\", \"fall_3\")).select(pl.col(\"fall_courses\")).explode(\"fall_courses\").unique(\"fall_courses\").to_series()\n",
    "\n",
    "for course in fall:\n",
    "    first = df.filter((pl.col(\"fall_1\") == course), (pl.col(\"fall_taken\") < pl.col(\"fall_number\")))\n",
    "    second = df.filter((pl.col(\"fall_2\") == course), (pl.col(\"fall_number\") == 2), (pl.col(\"fall_taken\") < pl.col(\"fall_number\")),\n",
    "                      (pl.col(\"fall_2\") != pl.col(\"fall_1\")))\n",
    "    first_prior = pl.concat([first, second]).sort(by=\"percentile\")\n",
    "    number_of_students = first_prior.shape[0]\n",
    "    first_prior = first_prior.head(fall_courses_places.get(course, 30))\n",
    "    df_add = pl.DataFrame({\"id\": first_prior[[\"id\"]], \"course_1\": course, \"course_2\": '-', \"course_3\": '-'})\n",
    "    res_fall = pl.concat([res_fall, df_add])\n",
    "    fall_courses_places[course] = max(fall_courses_places.get(course, 30) - number_of_students, 0)\n",
    "\n",
    "#df.with_columns(enough=pl.struct(\"id\").map(lambda id: ))\n",
    "df = df.join(res_fall.group_by(\"id\").len(), how=\"left\", on=\"id\")\\\n",
    "        .with_columns(fall_taken=pl.col(\"len\").fill_null(0))\\\n",
    "        .drop(\"len\")\n",
    "df"
   ]
  },
  {
   "cell_type": "markdown",
   "metadata": {
    "id": "YtFzmI0q3JKv"
   },
   "source": [
    "Здесь для проверки приведена таблица, в которой есть 2 дополнительные колонки:\n",
    "    \n",
    "    1) is_first_place - является ли студент лучшим по перцентили хотя бы на одном из курсов, куда он был зачислен\n",
    "    (True / NaN)\n",
    "    \n",
    "    2) is_last_place  - является ли студент худшим по перцентили хотя бы на одном из курсов, куда он был зачислен (True / NaN)"
   ]
  },
  {
   "cell_type": "code",
   "execution_count": null,
   "metadata": {
    "id": "Fdmh053Y3JKw"
   },
   "outputs": [],
   "source": [
    "!wget  -O '2_task_check.csv' -q 'https://www.dropbox.com/s/v8o2zzq3iz5gc9w/_2_task_check.csv?dl=0'\n",
    "check_df = pl.read_csv('2_task_check.csv')"
   ]
  },
  {
   "cell_type": "markdown",
   "metadata": {
    "id": "eA-fUDln3JKw"
   },
   "source": [
    "После распределения студентов в соответствии с первым приоритетом добавьте в свой датафрейм аналогичные признаки и запустите проверку:"
   ]
  },
  {
   "cell_type": "code",
   "execution_count": null,
   "metadata": {
    "id": "ueNXylC23JKw"
   },
   "outputs": [],
   "source": [
    "fir_col_name =  # insert name of your new column with is_first_place as str\n",
    "last_col_name =  # insert name of your new column with is_last_place as str\n",
    "\n",
    "assert (\n",
    "    check_df.sort(\"id\").select(\"is_first_place\", \"is_last_place\")\n",
    "    == df_wave_1.sort(\"id\").select(fir_col_name, last_col_name)\n",
    ").sum().rows() == [(10, 12)]"
   ]
  },
  {
   "cell_type": "markdown",
   "metadata": {
    "id": "qrPM6dpZ3JKw"
   },
   "source": [
    "#### 3. [2 балла] Проведите все три волны отбора студентов на курсы по выбору"
   ]
  },
  {
   "cell_type": "code",
   "execution_count": 15,
   "metadata": {
    "id": "G_pKJQHo3JKw"
   },
   "outputs": [
    {
     "data": {
      "text/html": [
       "<div><style>\n",
       ".dataframe > thead > tr,\n",
       ".dataframe > tbody > tr {\n",
       "  text-align: right;\n",
       "  white-space: pre-wrap;\n",
       "}\n",
       "</style>\n",
       "<small>shape: (398, 4)</small><table border=\"1\" class=\"dataframe\"><thead><tr><th>id</th><th>course_1</th><th>course_2</th><th>course_3</th></tr><tr><td>str</td><td>str</td><td>str</td><td>str</td></tr></thead><tbody><tr><td>&quot;86d929f6fd741e56e93cee59002988…</td><td>&quot;Сбор и обработка данных с помо…</td><td>&quot;-&quot;</td><td>&quot;-&quot;</td></tr><tr><td>&quot;425c2a90f447620c9a1868e92f0a7a…</td><td>&quot;Сбор и обработка данных с помо…</td><td>&quot;-&quot;</td><td>&quot;-&quot;</td></tr><tr><td>&quot;a0c56e8aa03ea6c1f5e84629144720…</td><td>&quot;Сбор и обработка данных с помо…</td><td>&quot;-&quot;</td><td>&quot;-&quot;</td></tr><tr><td>&quot;1c91e6c5375cf4a1cba48bdca79f7a…</td><td>&quot;Сбор и обработка данных с помо…</td><td>&quot;-&quot;</td><td>&quot;-&quot;</td></tr><tr><td>&quot;8a1162ce3c94d8974210a24f4b4f5f…</td><td>&quot;Сбор и обработка данных с помо…</td><td>&quot;-&quot;</td><td>&quot;-&quot;</td></tr><tr><td>&hellip;</td><td>&hellip;</td><td>&hellip;</td><td>&hellip;</td></tr><tr><td>&quot;00b40fe7dbfd23e5daba7652445094…</td><td>&quot;-&quot;</td><td>&quot;-&quot;</td><td>&quot;Матричные вычисления&quot;</td></tr><tr><td>&quot;8c3aa7371731bef999519c3de2c474…</td><td>&quot;-&quot;</td><td>&quot;-&quot;</td><td>&quot;Анализ неструктурированных дан…</td></tr><tr><td>&quot;1bbbfae51794b83c769b634be8da7b…</td><td>&quot;-&quot;</td><td>&quot;-&quot;</td><td>&quot;Анализ неструктурированных дан…</td></tr><tr><td>&quot;aeb7bb1e047c392b7e5e39225cd864…</td><td>&quot;-&quot;</td><td>&quot;-&quot;</td><td>&quot;Анализ неструктурированных дан…</td></tr><tr><td>&quot;f0f6f3881894172a0f04e79b554b49…</td><td>&quot;-&quot;</td><td>&quot;-&quot;</td><td>&quot;Принятие решений в условиях ри…</td></tr></tbody></table></div>"
      ],
      "text/plain": [
       "shape: (398, 4)\n",
       "┌─────────────────────────────────┬─────────────────────────────────┬──────────┬─────────────────────────────────┐\n",
       "│ id                              ┆ course_1                        ┆ course_2 ┆ course_3                        │\n",
       "│ ---                             ┆ ---                             ┆ ---      ┆ ---                             │\n",
       "│ str                             ┆ str                             ┆ str      ┆ str                             │\n",
       "╞═════════════════════════════════╪═════════════════════════════════╪══════════╪═════════════════════════════════╡\n",
       "│ 86d929f6fd741e56e93cee59002988… ┆ Сбор и обработка данных с помо… ┆ -        ┆ -                               │\n",
       "│ 425c2a90f447620c9a1868e92f0a7a… ┆ Сбор и обработка данных с помо… ┆ -        ┆ -                               │\n",
       "│ a0c56e8aa03ea6c1f5e84629144720… ┆ Сбор и обработка данных с помо… ┆ -        ┆ -                               │\n",
       "│ 1c91e6c5375cf4a1cba48bdca79f7a… ┆ Сбор и обработка данных с помо… ┆ -        ┆ -                               │\n",
       "│ 8a1162ce3c94d8974210a24f4b4f5f… ┆ Сбор и обработка данных с помо… ┆ -        ┆ -                               │\n",
       "│ …                               ┆ …                               ┆ …        ┆ …                               │\n",
       "│ 00b40fe7dbfd23e5daba7652445094… ┆ -                               ┆ -        ┆ Матричные вычисления            │\n",
       "│ 8c3aa7371731bef999519c3de2c474… ┆ -                               ┆ -        ┆ Анализ неструктурированных дан… │\n",
       "│ 1bbbfae51794b83c769b634be8da7b… ┆ -                               ┆ -        ┆ Анализ неструктурированных дан… │\n",
       "│ aeb7bb1e047c392b7e5e39225cd864… ┆ -                               ┆ -        ┆ Анализ неструктурированных дан… │\n",
       "│ f0f6f3881894172a0f04e79b554b49… ┆ -                               ┆ -        ┆ Принятие решений в условиях ри… │\n",
       "└─────────────────────────────────┴─────────────────────────────────┴──────────┴─────────────────────────────────┘"
      ]
     },
     "execution_count": 15,
     "metadata": {},
     "output_type": "execute_result"
    }
   ],
   "source": [
    "for course in fall:\n",
    "    first = df.filter((pl.col(\"fall_2\") == course), (pl.col(\"fall_number\") == 1), (pl.col(\"fall_taken\") < pl.col(\"fall_number\")),\n",
    "                     (pl.col(\"fall_2\") != pl.col(\"fall_1\")))\n",
    "    second = df.filter((pl.col(\"fall_3\") == course), (pl.col(\"fall_number\") == 2), (pl.col(\"fall_taken\") < pl.col(\"fall_number\")),\n",
    "                      (pl.col(\"fall_3\") != pl.col(\"fall_2\")), (pl.col(\"fall_3\") != pl.col(\"fall_1\")))\n",
    "    first_prior = pl.concat([first, second]).sort(by=\"percentile\")\n",
    "    number_of_students = first_prior.shape[0]\n",
    "    first_prior = first_prior.head(fall_courses_places.get(course, 30))\n",
    "    df_add = pl.DataFrame({\"id\": first_prior[[\"id\"]], \"course_1\": '-', \"course_2\": course, \"course_3\": '-'})\n",
    "    res_fall = pl.concat([res_fall, df_add])\n",
    "    fall_courses_places[course] = max(fall_courses_places.get(course, 30) - number_of_students, 0)\n",
    "\n",
    "df = df.join(res_fall.group_by(\"id\").len(), how=\"left\", on=\"id\")\\\n",
    "        .with_columns(fall_taken=pl.col(\"len\").fill_null(0))\\\n",
    "        .drop(\"len\")\n",
    "\n",
    "for course in fall:\n",
    "    first = df.filter((pl.col(\"fall_3\") == course), (pl.col(\"fall_number\") == 1), (pl.col(\"fall_taken\") < pl.col(\"fall_number\")),\n",
    "                     (pl.col(\"fall_3\") != pl.col(\"fall_2\")), (pl.col(\"fall_3\") != pl.col(\"fall_1\")))\n",
    "    #second = df.filter((pl.col(\"fall_3\") == course), (pl.col(\"fall_number\") == 2))\n",
    "    #first_prior = pl.concat([first, second]).sort(by=\"percentile\")\n",
    "    first_prior = first.sort(by=\"percentile\")\n",
    "    number_of_students = first_prior.shape[0]\n",
    "    first_prior = first_prior.head(fall_courses_places.get(course, 30))\n",
    "    df_add = pl.DataFrame({\"id\": first_prior[[\"id\"]], \"course_1\": '-', \"course_2\": '-', \"course_3\": course})\n",
    "    res_fall = pl.concat([res_fall, df_add])\n",
    "    fall_courses_places[course] = max(fall_courses_places.get(course, 30) - number_of_students, 0)\n",
    "\n",
    "res_fall"
   ]
  },
  {
   "cell_type": "code",
   "execution_count": 16,
   "metadata": {},
   "outputs": [],
   "source": [
    "res_fall.group_by(\"id\").all() \\\n",
    "    .with_columns(all_courses=pl.concat_list(pl.col(\"course_1\", \"course_2\", \"course_3\")).list.set_difference([\"-\"])) \\\n",
    "    .drop([\"course_1\", \"course_2\", \"course_3\"]) \\\n",
    "    .join(df, how=\"left\", on=\"id\").select(pl.col(\"id\", \"all_courses\", \"fall_number\")) \\\n",
    "    .with_columns(pl.col(\"all_courses\").list.to_struct(\"max_width\")).unnest(\"all_courses\") \\\n",
    "    .join(df.unique(\"id\"), how=\"right\", on=\"id\").select(pl.col(\"id\").alias(\"ID\"), pl.col(\"field_0\", \"field_1\"), pl.col(\"fall_number_right\").alias(\"fall_number\")) \\\n",
    "    .with_columns(\n",
    "        course1=pl.col(\"field_0\").fill_null(\"???\"),\n",
    "        course2=pl.when(pl.col(\"fall_number\") == 1) \\\n",
    "                    .then(pl.col(\"field_1\").fill_null(\"-\")) \\\n",
    "                    .otherwise(pl.col(\"field_1\").fill_null(\"???\"))\n",
    "    )\\\n",
    "    .drop([\"field_0\", \"field_1\", \"fall_number\"])\\\n",
    "    .write_csv(\"res_fall.csv\") "
   ]
  },
  {
   "cell_type": "markdown",
   "metadata": {
    "id": "JgiMyLJz3JKw"
   },
   "source": [
    "**Отправьте свой файл res_fall.csv в контест (будет в ближайшее время, следите за новостями) и прикрепите/укажите ниже ваш никнейм и ссылку на успешную посылку.**"
   ]
  },
  {
   "cell_type": "markdown",
   "metadata": {
    "id": "3za2-Axk3JKw"
   },
   "source": [
    "*Дисклеймер:*\n",
    "\n",
    "Контест выдаётся для самопроверки. Если ваша посылка получила ОК, то код, скорее всего, правильный. Но при этом оценка всё равно может быть снижена в случае обнаружения неэффективностей или ошибок в коде. Если вы сдадите в AnyTask очевидно неработающий код или ноутбук без кода, но при этом в контест будет сдан корректный файл, то это будет расцениваться как плагиат."
   ]
  },
  {
   "cell_type": "markdown",
   "metadata": {
    "id": "jzciJOzo3JKw"
   },
   "source": [
    "На всякий случай просим вас сдать вместе с ноутбуком файл res_fall.csv в anytask"
   ]
  },
  {
   "cell_type": "markdown",
   "metadata": {
    "id": "XRHWCteT3JKx"
   },
   "source": [
    "### 4. [1 балл] Распределите таким же образом студентов еще и на весенние курсы по выбору.\n",
    "\n",
    "Если ваш код был хорошо структурирован, то это не составит проблем.\n",
    "\n",
    "Если вы выполнили это задание, сдайте среди прочего файл res_spring.csv в таком же формате, как и res_fall.csv."
   ]
  },
  {
   "cell_type": "code",
   "execution_count": 17,
   "metadata": {
    "id": "8hDYJoMO3JKx"
   },
   "outputs": [],
   "source": [
    "df = df_reserve.clone()\n",
    "\n",
    "spring_courses_places = {\n",
    "    \"Обучение с подкреплением\": 60, \n",
    "    \"Анализ данных в бизнесе\": 60\n",
    "    # иначе: 30\n",
    "}\n",
    "\n",
    "spring = df.with_columns(spring_courses=pl.concat_list(\"spring_1\", \"spring_2\", \"spring_1\")).select(pl.col(\"spring_courses\")).explode(\"spring_courses\").unique(\"spring_courses\").to_series()\n",
    "\n",
    "df = df.with_columns(\n",
    "    pl.when((pl.col(\"17_group\").is_in([\"171\", \"172\", \"173\"]))) \\\n",
    "    .then(2).otherwise(1).alias(\"spring_number\"),\n",
    "    spring_taken=0\n",
    ")\n",
    "\n",
    "res_spring = pl.DataFrame({\"id\": [], \"course_1\": [], \"course_2\": [], \"course_3\": []}, \n",
    "                        schema={\"id\": str, \"course_1\": str, \"course_2\": str, \"course_3\": str})\n",
    "\n",
    "\n",
    "condition = (pl.col(\"17_group\").is_in([\"171\", \"172\"]) | pl.col(\"is_ml_student\") == True), \\\n",
    "             pl.concat_list(\"spring_1\", \"spring_2\", \"spring_3\").list.contains(\"Машинное обучение 2\")\n",
    "\n",
    "df = df.with_columns(\n",
    "    spring_1=pl.when(condition).then(\n",
    "        pl.when(pl.col(\"spring_1\") == \"Машинное обучение 2\").then(pl.col(\"spring_2\")).otherwise(pl.col(\"spring_1\"))\n",
    "    ).otherwise(pl.col(\"spring_1\")),\n",
    "    spring_2=pl.when(condition).then(\n",
    "        pl.when(pl.col(\"spring_3\") == \"Машинное обучение 2\").then(pl.col(\"spring_2\")).otherwise(pl.col(\"spring_3\"))\n",
    "    ).otherwise(pl.col(\"spring_2\")),\n",
    "    spring_3=pl.when(condition).then(\n",
    "        pl.when(pl.col(\"spring_3\") == \"Машинное обучение 2\").then(pl.col(\"spring_2\")).otherwise(pl.col(\"spring_3\"))\n",
    "    ).otherwise(pl.col(\"spring_3\"))\n",
    ")"
   ]
  },
  {
   "cell_type": "code",
   "execution_count": 18,
   "metadata": {},
   "outputs": [
    {
     "data": {
      "text/html": [
       "<div><style>\n",
       ".dataframe > thead > tr,\n",
       ".dataframe > tbody > tr {\n",
       "  text-align: right;\n",
       "  white-space: pre-wrap;\n",
       "}\n",
       "</style>\n",
       "<small>shape: (396, 4)</small><table border=\"1\" class=\"dataframe\"><thead><tr><th>id</th><th>course_1</th><th>course_2</th><th>course_3</th></tr><tr><td>str</td><td>str</td><td>str</td><td>str</td></tr></thead><tbody><tr><td>&quot;840716fde17a536f5e067546ab49a8…</td><td>&quot;Компьютерное зрение&quot;</td><td>&quot;-&quot;</td><td>&quot;-&quot;</td></tr><tr><td>&quot;6a93fcbc79d0df6ddeba3b46739fc3…</td><td>&quot;Компьютерное зрение&quot;</td><td>&quot;-&quot;</td><td>&quot;-&quot;</td></tr><tr><td>&quot;fecff7bd30995d16b59fb392d47b37…</td><td>&quot;Компьютерное зрение&quot;</td><td>&quot;-&quot;</td><td>&quot;-&quot;</td></tr><tr><td>&quot;4df9699d2022802f80b3e6426d6976…</td><td>&quot;Компьютерное зрение&quot;</td><td>&quot;-&quot;</td><td>&quot;-&quot;</td></tr><tr><td>&quot;93c0280966ae263fe26c5d78f719f2…</td><td>&quot;Компьютерное зрение&quot;</td><td>&quot;-&quot;</td><td>&quot;-&quot;</td></tr><tr><td>&hellip;</td><td>&hellip;</td><td>&hellip;</td><td>&hellip;</td></tr><tr><td>&quot;f7f123322f77fd451a30ed4979c323…</td><td>&quot;-&quot;</td><td>&quot;-&quot;</td><td>&quot;Системы баз данных&quot;</td></tr><tr><td>&quot;8aa0f1b7331b49464174b02cd693be…</td><td>&quot;-&quot;</td><td>&quot;-&quot;</td><td>&quot;Системы баз данных&quot;</td></tr><tr><td>&quot;32fea7beb180e7de64ad408013cc01…</td><td>&quot;-&quot;</td><td>&quot;-&quot;</td><td>&quot;Системы баз данных&quot;</td></tr><tr><td>&quot;b6bf56b8b8ffd1666036b0a8ca01c4…</td><td>&quot;-&quot;</td><td>&quot;-&quot;</td><td>&quot;Системы баз данных&quot;</td></tr><tr><td>&quot;9f23846141606a1e26e8e4c28e9a72…</td><td>&quot;-&quot;</td><td>&quot;-&quot;</td><td>&quot;Системы баз данных&quot;</td></tr></tbody></table></div>"
      ],
      "text/plain": [
       "shape: (396, 4)\n",
       "┌─────────────────────────────────┬─────────────────────┬──────────┬────────────────────┐\n",
       "│ id                              ┆ course_1            ┆ course_2 ┆ course_3           │\n",
       "│ ---                             ┆ ---                 ┆ ---      ┆ ---                │\n",
       "│ str                             ┆ str                 ┆ str      ┆ str                │\n",
       "╞═════════════════════════════════╪═════════════════════╪══════════╪════════════════════╡\n",
       "│ 840716fde17a536f5e067546ab49a8… ┆ Компьютерное зрение ┆ -        ┆ -                  │\n",
       "│ 6a93fcbc79d0df6ddeba3b46739fc3… ┆ Компьютерное зрение ┆ -        ┆ -                  │\n",
       "│ fecff7bd30995d16b59fb392d47b37… ┆ Компьютерное зрение ┆ -        ┆ -                  │\n",
       "│ 4df9699d2022802f80b3e6426d6976… ┆ Компьютерное зрение ┆ -        ┆ -                  │\n",
       "│ 93c0280966ae263fe26c5d78f719f2… ┆ Компьютерное зрение ┆ -        ┆ -                  │\n",
       "│ …                               ┆ …                   ┆ …        ┆ …                  │\n",
       "│ f7f123322f77fd451a30ed4979c323… ┆ -                   ┆ -        ┆ Системы баз данных │\n",
       "│ 8aa0f1b7331b49464174b02cd693be… ┆ -                   ┆ -        ┆ Системы баз данных │\n",
       "│ 32fea7beb180e7de64ad408013cc01… ┆ -                   ┆ -        ┆ Системы баз данных │\n",
       "│ b6bf56b8b8ffd1666036b0a8ca01c4… ┆ -                   ┆ -        ┆ Системы баз данных │\n",
       "│ 9f23846141606a1e26e8e4c28e9a72… ┆ -                   ┆ -        ┆ Системы баз данных │\n",
       "└─────────────────────────────────┴─────────────────────┴──────────┴────────────────────┘"
      ]
     },
     "execution_count": 18,
     "metadata": {},
     "output_type": "execute_result"
    }
   ],
   "source": [
    "for course in spring:\n",
    "    first = df.filter((pl.col(\"spring_1\") == course), (pl.col(\"spring_taken\") < pl.col(\"spring_number\")))\n",
    "    second = df.filter((pl.col(\"spring_2\") == course), (pl.col(\"spring_number\") == 2), (pl.col(\"spring_taken\") < pl.col(\"spring_number\")),\n",
    "                      (pl.col(\"spring_2\") != pl.col(\"spring_1\")))\n",
    "    first_prior = pl.concat([first, second]).sort(by=\"percentile\")\n",
    "    number_of_students = first_prior.shape[0]\n",
    "    first_prior = first_prior.head(spring_courses_places.get(course, 30))\n",
    "    df_add = pl.DataFrame({\"id\": first_prior[[\"id\"]], \"course_1\": course, \"course_2\": '-', \"course_3\": '-'})\n",
    "    res_spring = pl.concat([res_spring, df_add])\n",
    "    spring_courses_places[course] = max(spring_courses_places.get(course, 30) - number_of_students, 0)\n",
    "\n",
    "#df.with_columns(enough=pl.struct(\"id\").map(lambda id: ))\n",
    "df = df.join(res_spring.group_by(\"id\").len(), how=\"left\", on=\"id\")\\\n",
    "        .with_columns(spring_taken=pl.col(\"len\").fill_null(0))\\\n",
    "        .drop(\"len\")\n",
    "\n",
    "for course in spring:\n",
    "    first = df.filter((pl.col(\"spring_2\") == course), (pl.col(\"spring_number\") == 1), (pl.col(\"spring_taken\") < pl.col(\"spring_number\")),\n",
    "                     (pl.col(\"spring_2\") != pl.col(\"spring_1\")))\n",
    "    second = df.filter((pl.col(\"spring_3\") == course), (pl.col(\"spring_number\") == 2), (pl.col(\"spring_taken\") < pl.col(\"spring_number\")),\n",
    "                      (pl.col(\"spring_3\") != pl.col(\"spring_2\")), (pl.col(\"spring_3\") != pl.col(\"spring_1\")))\n",
    "    first_prior = pl.concat([first, second]).sort(by=\"percentile\")\n",
    "    number_of_students = first_prior.shape[0]\n",
    "    first_prior = first_prior.head(spring_courses_places.get(course, 30))\n",
    "    df_add = pl.DataFrame({\"id\": first_prior[[\"id\"]], \"course_1\": '-', \"course_2\": course, \"course_3\": '-'})\n",
    "    res_spring = pl.concat([res_spring, df_add])\n",
    "    spring_courses_places[course] = max(spring_courses_places.get(course, 30) - number_of_students, 0)\n",
    "\n",
    "df = df.join(res_spring.group_by(\"id\").len(), how=\"left\", on=\"id\")\\\n",
    "        .with_columns(spring_taken=pl.col(\"len\").fill_null(0))\\\n",
    "        .drop(\"len\")\n",
    "\n",
    "for course in spring:\n",
    "    first = df.filter((pl.col(\"spring_3\") == course), (pl.col(\"spring_number\") == 1), (pl.col(\"spring_taken\") < pl.col(\"spring_number\")),\n",
    "                     (pl.col(\"spring_3\") != pl.col(\"spring_2\")), (pl.col(\"spring_3\") != pl.col(\"spring_1\")))\n",
    "    first_prior = first.sort(by=\"percentile\")\n",
    "    number_of_students = first_prior.shape[0]\n",
    "    first_prior = first_prior.head(spring_courses_places.get(course, 30))\n",
    "    df_add = pl.DataFrame({\"id\": first_prior[[\"id\"]], \"course_1\": '-', \"course_2\": '-', \"course_3\": course})\n",
    "    res_spring = pl.concat([res_spring, df_add])\n",
    "    spring_courses_places[course] = max(spring_courses_places.get(course, 30) - number_of_students, 0)\n",
    "\n",
    "res_spring"
   ]
  },
  {
   "cell_type": "code",
   "execution_count": 19,
   "metadata": {},
   "outputs": [],
   "source": [
    "res_spring.group_by(\"id\").all() \\\n",
    "    .with_columns(all_courses=pl.concat_list(pl.col(\"course_1\", \"course_2\", \"course_3\")).list.set_difference([\"-\"])) \\\n",
    "    .drop([\"course_1\", \"course_2\", \"course_3\"]) \\\n",
    "    .join(df, how=\"left\", on=\"id\").select(pl.col(\"id\", \"all_courses\", \"spring_number\")) \\\n",
    "    .with_columns(pl.col(\"all_courses\").list.to_struct(\"max_width\")).unnest(\"all_courses\") \\\n",
    "    .join(df.unique(\"id\"), how=\"right\", on=\"id\").select(pl.col(\"id\").alias(\"ID\"), pl.col(\"field_0\", \"field_1\"), pl.col(\"spring_number_right\").alias(\"spring_number\")) \\\n",
    "    .with_columns(\n",
    "        course1=pl.col(\"field_0\").fill_null(\"???\"),\n",
    "        course2=pl.when(pl.col(\"spring_number\") == 1) \\\n",
    "                    .then(pl.col(\"field_1\").fill_null(\"-\")) \\\n",
    "                    .otherwise(pl.col(\"field_1\").fill_null(\"???\"))\n",
    "    )\\\n",
    "    .drop([\"field_0\", \"field_1\", \"spring_number\"])\\\n",
    "    .write_csv(\"res_spring.csv\") "
   ]
  },
  {
   "cell_type": "markdown",
   "metadata": {
    "id": "xw9tt9dH3JKx"
   },
   "source": [
    "**Отправьте свой файл res_spring.csv в контест (будет в ближайшее время, следите за новостями) и прикрепите/укажите ниже ваш никнейм и ссылку на успешную посылку.**"
   ]
  },
  {
   "cell_type": "markdown",
   "metadata": {
    "id": "7aB4Q1fs3JKx"
   },
   "source": [
    "На всякий случай просим вас сдать вместе с ноутбуком файл res_spring.csv в anytask"
   ]
  },
  {
   "cell_type": "markdown",
   "metadata": {
    "id": "M1LivaOx3JKx"
   },
   "source": [
    "Вставьте картинку, описывающую ваш опыт выполнения этого задания:"
   ]
  },
  {
   "cell_type": "code",
   "execution_count": null,
   "metadata": {
    "id": "QQ7X5fJW3JKx"
   },
   "outputs": [],
   "source": []
  }
 ],
 "metadata": {
  "colab": {
   "provenance": []
  },
  "kernelspec": {
   "display_name": "Python 3 (ipykernel)",
   "language": "python",
   "name": "python3"
  },
  "language_info": {
   "codemirror_mode": {
    "name": "ipython",
    "version": 3
   },
   "file_extension": ".py",
   "mimetype": "text/x-python",
   "name": "python",
   "nbconvert_exporter": "python",
   "pygments_lexer": "ipython3",
   "version": "3.12.6"
  }
 },
 "nbformat": 4,
 "nbformat_minor": 4
}
